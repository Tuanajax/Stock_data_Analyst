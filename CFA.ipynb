{
 "cells": [
  {
   "cell_type": "code",
   "execution_count": 1,
   "metadata": {},
   "outputs": [],
   "source": [
    "import numpy_financial as npf\n",
    "import pandas as pd"
   ]
  },
  {
   "cell_type": "code",
   "execution_count": 2,
   "metadata": {},
   "outputs": [
    {
     "data": {
      "application/vnd.microsoft.datawrangler.viewer.v0+json": {
       "columns": [
        {
         "name": "index",
         "rawType": "int64",
         "type": "integer"
        },
        {
         "name": "semi_annual",
         "rawType": "float64",
         "type": "float"
        },
        {
         "name": "quarterly",
         "rawType": "float64",
         "type": "float"
        },
        {
         "name": "monthly",
         "rawType": "float64",
         "type": "float"
        },
        {
         "name": "Daily",
         "rawType": "float64",
         "type": "float"
        }
       ],
       "conversionMethod": "pd.DataFrame",
       "ref": "83893d2d-9039-42c4-ab3a-a21e9be7f4ea",
       "rows": [
        [
         "0",
         "0.010024999999999729",
         "0.010037562539062295",
         "0.010045960887181016",
         "0.010050028723681548"
        ],
        [
         "1",
         "0.020100000000000007",
         "0.020150500624999568",
         "0.020184355681501787",
         "0.020200781032923"
        ],
        [
         "2",
         "0.030224999999999724",
         "0.030339190664062654",
         "0.030415956913506736",
         "0.030453263600551006"
        ],
        [
         "3",
         "0.04039999999999999",
         "0.040604010000000024",
         "0.040741542919790596",
         "0.04080849313241641"
        ],
        [
         "4",
         "0.05062499999999992",
         "0.05094533691406222",
         "0.051161897881732976",
         "0.05126749646744733"
        ],
        [
         "5",
         "0.10250000000000004",
         "0.10381289062499954",
         "0.10471306744129683",
         "0.10515578161623251"
        ],
        [
         "6",
         "0.1556249999999999",
         "0.15865041503906285",
         "0.1607545177229981",
         "0.16179844312827374"
        ],
        [
         "7",
         "0.2100000000000002",
         "0.21550625000000023",
         "0.21939108490523163",
         "0.22133585825176727"
        ],
        [
         "8",
         "0.265625",
         "0.2744293212890625",
         "0.2807315606571219",
         "0.28391553787871016"
        ],
        [
         "9",
         "0.3224999999999998",
         "0.3354691406249999",
         "0.3448888242462971",
         "0.34969248800767416"
        ],
        [
         "10",
         "0.3806250000000002",
         "0.398675805664062",
         "0.41197997849136936",
         "0.4188295894691514"
        ],
        [
         "11",
         "0.43999999999999995",
         "0.4641000000000004",
         "0.48212648965463845",
         "0.4914979968328965"
        ]
       ],
       "shape": {
        "columns": 4,
        "rows": 12
       }
      },
      "text/html": [
       "<div>\n",
       "<style scoped>\n",
       "    .dataframe tbody tr th:only-of-type {\n",
       "        vertical-align: middle;\n",
       "    }\n",
       "\n",
       "    .dataframe tbody tr th {\n",
       "        vertical-align: top;\n",
       "    }\n",
       "\n",
       "    .dataframe thead th {\n",
       "        text-align: right;\n",
       "    }\n",
       "</style>\n",
       "<table border=\"1\" class=\"dataframe\">\n",
       "  <thead>\n",
       "    <tr style=\"text-align: right;\">\n",
       "      <th></th>\n",
       "      <th>semi_annual</th>\n",
       "      <th>quarterly</th>\n",
       "      <th>monthly</th>\n",
       "      <th>Daily</th>\n",
       "    </tr>\n",
       "  </thead>\n",
       "  <tbody>\n",
       "    <tr>\n",
       "      <th>0</th>\n",
       "      <td>0.010025</td>\n",
       "      <td>0.010038</td>\n",
       "      <td>0.010046</td>\n",
       "      <td>0.010050</td>\n",
       "    </tr>\n",
       "    <tr>\n",
       "      <th>1</th>\n",
       "      <td>0.020100</td>\n",
       "      <td>0.020151</td>\n",
       "      <td>0.020184</td>\n",
       "      <td>0.020201</td>\n",
       "    </tr>\n",
       "    <tr>\n",
       "      <th>2</th>\n",
       "      <td>0.030225</td>\n",
       "      <td>0.030339</td>\n",
       "      <td>0.030416</td>\n",
       "      <td>0.030453</td>\n",
       "    </tr>\n",
       "    <tr>\n",
       "      <th>3</th>\n",
       "      <td>0.040400</td>\n",
       "      <td>0.040604</td>\n",
       "      <td>0.040742</td>\n",
       "      <td>0.040808</td>\n",
       "    </tr>\n",
       "    <tr>\n",
       "      <th>4</th>\n",
       "      <td>0.050625</td>\n",
       "      <td>0.050945</td>\n",
       "      <td>0.051162</td>\n",
       "      <td>0.051267</td>\n",
       "    </tr>\n",
       "    <tr>\n",
       "      <th>5</th>\n",
       "      <td>0.102500</td>\n",
       "      <td>0.103813</td>\n",
       "      <td>0.104713</td>\n",
       "      <td>0.105156</td>\n",
       "    </tr>\n",
       "    <tr>\n",
       "      <th>6</th>\n",
       "      <td>0.155625</td>\n",
       "      <td>0.158650</td>\n",
       "      <td>0.160755</td>\n",
       "      <td>0.161798</td>\n",
       "    </tr>\n",
       "    <tr>\n",
       "      <th>7</th>\n",
       "      <td>0.210000</td>\n",
       "      <td>0.215506</td>\n",
       "      <td>0.219391</td>\n",
       "      <td>0.221336</td>\n",
       "    </tr>\n",
       "    <tr>\n",
       "      <th>8</th>\n",
       "      <td>0.265625</td>\n",
       "      <td>0.274429</td>\n",
       "      <td>0.280732</td>\n",
       "      <td>0.283916</td>\n",
       "    </tr>\n",
       "    <tr>\n",
       "      <th>9</th>\n",
       "      <td>0.322500</td>\n",
       "      <td>0.335469</td>\n",
       "      <td>0.344889</td>\n",
       "      <td>0.349692</td>\n",
       "    </tr>\n",
       "    <tr>\n",
       "      <th>10</th>\n",
       "      <td>0.380625</td>\n",
       "      <td>0.398676</td>\n",
       "      <td>0.411980</td>\n",
       "      <td>0.418830</td>\n",
       "    </tr>\n",
       "    <tr>\n",
       "      <th>11</th>\n",
       "      <td>0.440000</td>\n",
       "      <td>0.464100</td>\n",
       "      <td>0.482126</td>\n",
       "      <td>0.491498</td>\n",
       "    </tr>\n",
       "  </tbody>\n",
       "</table>\n",
       "</div>"
      ],
      "text/plain": [
       "    semi_annual  quarterly   monthly     Daily\n",
       "0      0.010025   0.010038  0.010046  0.010050\n",
       "1      0.020100   0.020151  0.020184  0.020201\n",
       "2      0.030225   0.030339  0.030416  0.030453\n",
       "3      0.040400   0.040604  0.040742  0.040808\n",
       "4      0.050625   0.050945  0.051162  0.051267\n",
       "5      0.102500   0.103813  0.104713  0.105156\n",
       "6      0.155625   0.158650  0.160755  0.161798\n",
       "7      0.210000   0.215506  0.219391  0.221336\n",
       "8      0.265625   0.274429  0.280732  0.283916\n",
       "9      0.322500   0.335469  0.344889  0.349692\n",
       "10     0.380625   0.398676  0.411980  0.418830\n",
       "11     0.440000   0.464100  0.482126  0.491498"
      ]
     },
     "execution_count": 2,
     "metadata": {},
     "output_type": "execute_result"
    }
   ],
   "source": [
    "def calculate_ear(nominal_rate, compounding_periods):\n",
    "    \"\"\"\n",
    "    Calculates the Effective Annual Rate (EAR).\n",
    "\n",
    "    Args:\n",
    "        nominal_rate: The nominal interest rate (as a decimal).\n",
    "        compounding_periods: The number of compounding periods per year.\n",
    "\n",
    "    Returns:\n",
    "        The Effective Annual Rate (EAR) as a decimal.\n",
    "    \"\"\"\n",
    "    ear = (1 + nominal_rate / compounding_periods) ** compounding_periods - 1\n",
    "    return ear\n",
    "nominal_rate =[1,2,3,4,5,10,15,20,25,30,35,40]\n",
    "data = {'semi_annual':[2],'quarterly':[4],'monthly':[12],'Daily':[365]}\n",
    "for i in data.keys():\n",
    "    for j in nominal_rate:\n",
    "        data[i].append(calculate_ear(j/100,data[i][0]))\n",
    "    data[i].pop(0)\n",
    "data\n",
    "data = pd.DataFrame(data)\n",
    "data "
   ]
  },
  {
   "cell_type": "code",
   "execution_count": 4,
   "metadata": {},
   "outputs": [
    {
     "data": {
      "text/plain": [
       "380427.5215039414"
      ]
     },
     "execution_count": 4,
     "metadata": {},
     "output_type": "execute_result"
    }
   ],
   "source": [
    "def calculate_future_value(present_value, interest_rate, periods):\n",
    "    \"\"\"\n",
    "    Calculates the future value of an investment.\n",
    "\n",
    "    Args:\n",
    "        present_value: The initial amount of the investment.\n",
    "        interest_rate: The annual interest rate (as a decimal).\n",
    "        periods: The number of compounding periods.\n",
    "\n",
    "    Returnsbb\n",
    "        The future value of the investment.\n",
    "    \"\"\"\n",
    "    return present_value * (1 + interest_rate) ** periods\n",
    "calculate_future_value(75000,0.07,24)"
   ]
  },
  {
   "cell_type": "code",
   "execution_count": 5,
   "metadata": {},
   "outputs": [
    {
     "data": {
      "text/plain": [
       "-113733.20897937746"
      ]
     },
     "execution_count": 5,
     "metadata": {},
     "output_type": "execute_result"
    }
   ],
   "source": [
    "npf.fv(0.07/4, 4*6,0,75000)"
   ]
  },
  {
   "cell_type": "code",
   "execution_count": 6,
   "metadata": {},
   "outputs": [
    {
     "name": "stdout",
     "output_type": "stream",
     "text": [
      "365\n"
     ]
    }
   ],
   "source": [
    "def calculate_effective_annual_rate(nominal_rate, compounding_periods):\n",
    "    \"\"\"\n",
    "    Calculates the effective annual rate (EAR) given a nominal interest rate and the number of compounding periods per year.\n",
    "\n",
    "    Args:\n",
    "        nominal_rate (float): The nominal interest rate (as a decimal).\n",
    "        compounding_periods (int): The number of compounding periods per year.\n",
    "\n",
    "    Returns:\n",
    "        float: The effective annual rate (as a decimal).\n",
    "    \"\"\"\n",
    "    if nominal_rate < 0:\n",
    "        raise ValueError(\"Nominal rate must be non-negative.\")\n",
    "    if compounding_periods <= 0:\n",
    "        raise ValueError(\"Compounding periods must be greater than zero.\")\n",
    "    \n",
    "    ear = (1 + nominal_rate / compounding_periods) ** compounding_periods - 1\n",
    "    return ear\n",
    "period= [365,2,4]\n",
    "for i in period:\n",
    "    if round(calculate_effective_annual_rate(0.04,i),4) == 0.0408:\n",
    "        print(i)\n",
    "    pass\n"
   ]
  },
  {
   "cell_type": "code",
   "execution_count": 7,
   "metadata": {},
   "outputs": [
    {
     "data": {
      "text/plain": [
       "-1.0503078711341186e+25"
      ]
     },
     "execution_count": 7,
     "metadata": {},
     "output_type": "execute_result"
    }
   ],
   "source": [
    "ear = calculate_effective_annual_rate(0.03,365)\n",
    "pv = 1000000\n",
    "npf.fv(ear,4*365,0,pv)"
   ]
  },
  {
   "cell_type": "code",
   "execution_count": null,
   "metadata": {},
   "outputs": [],
   "source": [
    "import math\n",
    "\n",
    "def calculate_logarithm(number, base):\n",
    "  \"\"\"Calculates the logarithm of a number with a given base.\n",
    "\n",
    "  Args:\n",
    "    number: The number for which to calculate the logarithm.\n",
    "    base: The base of the logarithm.\n",
    "\n",
    "  Returns:\n",
    "    The logarithm of the number with the given base, or None if the input is invalid.\n",
    "  \"\"\"\n",
    "  if number <= 0 or base <= 0 or base == 1:\n",
    "    return None\n",
    "  return math.log(number, base)\n",
    "\n",
    "match.log()"
   ]
  },
  {
   "cell_type": "code",
   "execution_count": null,
   "metadata": {},
   "outputs": [],
   "source": [
    "def calculate_future_value_ordinary_annuity(payment, rate, periods):\n",
    "    \"\"\"\n",
    "    Calculates the future value of an ordinary annuity.\n",
    "\n",
    "    Args:\n",
    "        payment: The payment amount per period.\n",
    "        rate: The interest rate per period.\n",
    "        periods: The number of periods.\n",
    "\n",
    "    Returns:\n",
    "        The future value of the ordinary annuity.\n",
    "    \"\"\"\n",
    "    if rate == 0:\n",
    "        return payment * periods\n",
    "    else:\n",
    "        return payment * (( (1 + rate)**periods - 1) / rate)\n",
    "    "
   ]
  },
  {
   "cell_type": "code",
   "execution_count": 12,
   "metadata": {},
   "outputs": [
    {
     "data": {
      "text/plain": [
       "96.32449501508941"
      ]
     },
     "execution_count": 12,
     "metadata": {},
     "output_type": "execute_result"
    }
   ],
   "source": [
    "ls = dict()\n",
    "i = 0.01\n",
    "while i <= 1:\n",
    "    D = 9*(((1 + i)**10 - 1) / i)\n",
    "    i = i + 0.01\n",
    "    ls[i] = D\n",
    "ls\n",
    "9*(((1 + 0.015)**10 - 1) / 0.015)"
   ]
  },
  {
   "cell_type": "code",
   "execution_count": 13,
   "metadata": {},
   "outputs": [
    {
     "data": {
      "text/plain": [
       "1.5"
      ]
     },
     "execution_count": 13,
     "metadata": {},
     "output_type": "execute_result"
    }
   ],
   "source": [
    "0.015*100"
   ]
  }
 ],
 "metadata": {
  "kernelspec": {
   "display_name": "Python 3",
   "language": "python",
   "name": "python3"
  },
  "language_info": {
   "codemirror_mode": {
    "name": "ipython",
    "version": 3
   },
   "file_extension": ".py",
   "mimetype": "text/x-python",
   "name": "python",
   "nbconvert_exporter": "python",
   "pygments_lexer": "ipython3",
   "version": "3.10.12"
  }
 },
 "nbformat": 4,
 "nbformat_minor": 2
}
