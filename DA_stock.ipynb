{
 "cells": [
  {
   "cell_type": "code",
   "execution_count": 1,
   "metadata": {},
   "outputs": [
    {
     "data": {
      "text/html": [
       "<!DOCTYPE html>\n",
       "<html lang=\"vi\" style=\"width: 100%; margin: 0; padding: 0;\">\n",
       "<head>\n",
       "    <meta charset=\"UTF-8\">\n",
       "    <meta name=\"viewport\" content=\"width=device-width, initial-scale=1.0\">\n",
       "    <title>Vnstock - Bấm Star Ngay!</title>\n",
       "    <link rel=\"stylesheet\" href=\"https://cdnjs.cloudflare.com/ajax/libs/font-awesome/6.0.0/css/all.min.css\">\n",
       "    <style>\n",
       "        :root {\n",
       "            --primary-color: #4CAF50;\n",
       "            --secondary-color: #2196F3;\n",
       "            --accent-color: #FF9800;\n",
       "            --dark-color: #333;\n",
       "            --light-color: #f5f5f5;\n",
       "        }\n",
       "        \n",
       "        body {\n",
       "            font-family: 'Segoe UI', Tahoma, Geneva, Verdana, sans-serif;\n",
       "            line-height: 1.6;\n",
       "            color: #333;\n",
       "            background-color: #f9f9f9;\n",
       "            margin: 0;\n",
       "            padding: 0;\n",
       "            width: 100%;\n",
       "        }\n",
       "        \n",
       "        .vnstock-ad-container {\n",
       "            width: 100%;\n",
       "            min-width: 300px;\n",
       "            margin: 0;\n",
       "            background: #fff;\n",
       "            border-radius: 12px;\n",
       "            box-shadow: 0 8px 24px rgba(0, 0, 0, 0.15);\n",
       "            overflow: hidden;\n",
       "            display: flex;\n",
       "            flex-direction: column;\n",
       "            border: 1px solid #e0e0e0;\n",
       "        }\n",
       "        \n",
       "        @media (min-width: 768px) {\n",
       "            .vnstock-ad-container {\n",
       "                flex-direction: row;\n",
       "            }\n",
       "        }\n",
       "        \n",
       "        .vnstock-ad-content {\n",
       "            padding: 30px;\n",
       "            flex: 3;\n",
       "        }\n",
       "        \n",
       "        .vnstock-ad-image {\n",
       "            flex: 2;\n",
       "            background: linear-gradient(135deg, #f5f7fa, #e4e8eb);\n",
       "            display: flex;\n",
       "            align-items: center;\n",
       "            justify-content: center;\n",
       "            padding: 20px;\n",
       "            transition: all 0.3s ease;\n",
       "            text-decoration: none;\n",
       "            min-width: 200px;\n",
       "        }\n",
       "        \n",
       "        .vnstock-ad-image:hover {\n",
       "            opacity: 0.9;\n",
       "        }\n",
       "        \n",
       "        .vnstock-ad-image img {\n",
       "            max-width: 100%;\n",
       "            height: auto;\n",
       "            border-radius: 8px;\n",
       "            box-shadow: 0 4px 12px rgba(0, 0, 0, 0.1);\n",
       "            transition: transform 0.3s ease;\n",
       "        }\n",
       "        \n",
       "        .vnstock-ad-image:hover img {\n",
       "            transform: scale(1.03);\n",
       "        }\n",
       "        \n",
       "        .vnstock-ad-title {\n",
       "            margin-top: 0;\n",
       "            font-size: 28px;\n",
       "            line-height: 1.3;\n",
       "            color: var(--dark-color);\n",
       "            font-weight: 700;\n",
       "            text-align: center;\n",
       "            margin-bottom: 25px;\n",
       "        }\n",
       "        \n",
       "        .vnstock-ad-title-green {\n",
       "            color: var(--primary-color);\n",
       "            display: block;\n",
       "        }\n",
       "        \n",
       "        .highlight {\n",
       "            background: linear-gradient(120deg, rgba(255, 224, 130, 0.5) 0%, rgba(255, 183, 77, 0.35) 100%);\n",
       "            padding: 3px 6px;\n",
       "            border-radius: 4px;\n",
       "            font-weight: bold;\n",
       "        }\n",
       "        \n",
       "        .vnstock-ad-features {\n",
       "            list-style-type: none;\n",
       "            padding: 0;\n",
       "            margin: 25px 0;\n",
       "        }\n",
       "        \n",
       "        .vnstock-ad-features li {\n",
       "            margin-bottom: 18px;\n",
       "            padding-left: 10px;\n",
       "            position: relative;\n",
       "            font-size: 18px;\n",
       "            display: flex;\n",
       "            align-items: center;\n",
       "            line-height: 1.5;\n",
       "            transition: transform 0.2s ease;\n",
       "        }\n",
       "        \n",
       "        .vnstock-ad-features li:hover {\n",
       "            transform: translateX(5px);\n",
       "        }\n",
       "        \n",
       "        .vnstock-ad-features li::before {\n",
       "            content: \"✨\";\n",
       "            margin-right: 12px;\n",
       "            color: var(--accent-color);\n",
       "            font-size: 20px;\n",
       "        }\n",
       "        \n",
       "        .button-container {\n",
       "            text-align: center;\n",
       "            margin-top: 30px;\n",
       "        }\n",
       "        \n",
       "        .vnstock-ad-button {\n",
       "            display: inline-block;\n",
       "            background-color: var(--primary-color);\n",
       "            color: white;\n",
       "            font-size: 18px;\n",
       "            font-weight: bold;\n",
       "            padding: 14px 30px;\n",
       "            border-radius: 50px;\n",
       "            text-decoration: none;\n",
       "            transition: all 0.3s ease;\n",
       "            box-shadow: 0 4px 15px rgba(76, 175, 80, 0.4);\n",
       "            border: none;\n",
       "            cursor: pointer;\n",
       "            position: relative;\n",
       "            overflow: hidden;\n",
       "        }\n",
       "        \n",
       "        .vnstock-ad-button:hover {\n",
       "            background-color: #3d8b40;\n",
       "            transform: translateY(-3px);\n",
       "            box-shadow: 0 6px 20px rgba(76, 175, 80, 0.5);\n",
       "        }\n",
       "        \n",
       "        .vnstock-ad-button:active {\n",
       "            transform: translateY(1px);\n",
       "        }\n",
       "        \n",
       "        .fa-star {\n",
       "            animation: star-pulse 2s infinite;\n",
       "            margin-left: 8px;\n",
       "        }\n",
       "        \n",
       "        @keyframes star-pulse {\n",
       "            0% {\n",
       "                transform: scale(1);\n",
       "            }\n",
       "            50% {\n",
       "                transform: scale(1.3);\n",
       "                color: #FFD700;\n",
       "            }\n",
       "            100% {\n",
       "                transform: scale(1);\n",
       "            }\n",
       "        }\n",
       "        \n",
       "        .rocket-container {\n",
       "            position: absolute;\n",
       "            bottom: -80px;\n",
       "            right: 30px;\n",
       "            font-size: 60px;\n",
       "            animation: rocket-flight 8s linear infinite;\n",
       "            z-index: 1;\n",
       "            opacity: 0.7;\n",
       "        }\n",
       "        \n",
       "        @keyframes rocket-flight {\n",
       "            0% {\n",
       "                transform: translate(-100px, 100px) rotate(45deg);\n",
       "                opacity: 0;\n",
       "            }\n",
       "            20% {\n",
       "                opacity: 1;\n",
       "            }\n",
       "            100% {\n",
       "                transform: translate(calc(100% + 100px), -100px) rotate(45deg);\n",
       "                opacity: 0;\n",
       "            }\n",
       "        }\n",
       "        \n",
       "        .tagline {\n",
       "            text-align: center;\n",
       "            font-style: italic;\n",
       "            color: #666;\n",
       "            margin-top: 15px;\n",
       "            font-size: 16px;\n",
       "        }\n",
       "        \n",
       "        .progress-container {\n",
       "            margin: 20px auto;\n",
       "            max-width: 80%;\n",
       "        }\n",
       "        \n",
       "        .progress-bar {\n",
       "            height: 20px;\n",
       "            background-color: #e0e0e0;\n",
       "            border-radius: 10px;\n",
       "            margin-bottom: 10px;\n",
       "            overflow: hidden;\n",
       "            position: relative;\n",
       "        }\n",
       "        \n",
       "        .progress-fill {\n",
       "            height: 100%;\n",
       "            width: 75%; /* Approximately halfway to 1500 */\n",
       "            background: linear-gradient(90deg, #4CAF50, #8BC34A);\n",
       "            border-radius: 10px;\n",
       "            transition: width 1.5s ease;\n",
       "            position: relative;\n",
       "        }\n",
       "        \n",
       "        .progress-text {\n",
       "            text-align: center;\n",
       "            font-size: 14px;\n",
       "            color: #666;\n",
       "        }\n",
       "        \n",
       "        .stars-container {\n",
       "            position: absolute;\n",
       "            top: 0;\n",
       "            left: 0;\n",
       "            width: 100%;\n",
       "            height: 100%;\n",
       "            overflow: hidden;\n",
       "            z-index: -1;\n",
       "        }\n",
       "        \n",
       "        .star {\n",
       "            position: absolute;\n",
       "            background-color: #FFD700;\n",
       "            width: 3px;\n",
       "            height: 3px;\n",
       "            border-radius: 50%;\n",
       "        }\n",
       "    </style>\n",
       "</head>\n",
       "<body>\n",
       "    <div class=\"vnstock-ad-container\" style=\"width: 100%;\">\n",
       "        <div class=\"stars-container\" id=\"starsBackground\"></div>\n",
       "        <div class=\"vnstock-ad-content\" style=\"flex: 3; min-width: 280px;\">\n",
       "            <h2 class=\"vnstock-ad-title\">\n",
       "                <span class=\"vnstock-ad-title-green\">🌟 Giúp Vnstock đạt 1.000 lượt yêu thích trên Github!</span>\n",
       "            </h2>\n",
       "            \n",
       "            <div class=\"progress-container\">\n",
       "                <div class=\"progress-bar\">\n",
       "                    <div class=\"progress-fill\"></div>\n",
       "                </div>\n",
       "                <div class=\"progress-text\">Chỉ còn 1/3 đoạn đường nữa thôi!</div>\n",
       "            </div>\n",
       "            \n",
       "            <ul class=\"vnstock-ad-features\">\n",
       "                <li><span class=\"highlight\">🚀 Siêu Công Cụ:</span> Bloomberg phiên bản... bình dân cho mọi người!</li>\n",
       "                <li><span class=\"highlight\">🐣 Gà Mờ Vẫn Dùng Tốt:</span> Không cần biết code vẫn dùng ngon, nhấn nút là có dữ liệu liền!</li>\n",
       "                <li><span class=\"highlight\">💸 Miễn Phí Mà Xịn:</span> Tiết kiệm tiền cafe cả năm, dữ liệu vẫn đủ đầy!</li>\n",
       "                <li><span class=\"highlight\">⚡ Siêu Tốc:</span> Đừng chớp mắt, dữ liệu có ngay đây!</li>\n",
       "            </ul>\n",
       "            \n",
       "            <div class=\"button-container\">\n",
       "                <a href=\"https://github.com/thinh-vu/vnstock\" target=\"_blank\" class=\"vnstock-ad-button\">\n",
       "                    ⭐ Người ơi thả Star giúp em! <i class=\"fas fa-star\"></i>\n",
       "                </a>\n",
       "            </div>\n",
       "            \n",
       "            <p class=\"tagline\">\"Cho bõ công em đêm hôm viết code!\" 😎</p>\n",
       "        </div>\n",
       "        \n",
       "        <a href=\"https://github.com/thinh-vu/vnstock\" class=\"vnstock-ad-image\" target=\"_blank\">\n",
       "            <img src=\"https://raw.githubusercontent.com/thinh-vu/vnstock/beta/docs/docs/assets/images/github_star_guide.png\" alt=\"Cách star Vnstock trên GitHub\">\n",
       "        </a>\n",
       "        \n",
       "        <div class=\"rocket-container\">\n",
       "            🚀\n",
       "        </div>\n",
       "    </div>\n",
       "\n",
       "    <script>\n",
       "        // Create twinkling stars background\n",
       "        const starsContainer = document.getElementById('starsBackground');\n",
       "        const numberOfStars = 50;\n",
       "        \n",
       "        for (let i = 0; i < numberOfStars; i++) {\n",
       "            const star = document.createElement('div');\n",
       "            star.classList.add('star');\n",
       "            \n",
       "            // Random position\n",
       "            const xPos = Math.random() * 100;\n",
       "            const yPos = Math.random() * 100;\n",
       "            \n",
       "            star.style.left = xPos + '%';\n",
       "            star.style.top = yPos + '%';\n",
       "            \n",
       "            // Random size\n",
       "            const size = Math.random() * 3 + 1;\n",
       "            star.style.width = size + 'px';\n",
       "            star.style.height = size + 'px';\n",
       "            \n",
       "            // Random twinkling animation\n",
       "            const duration = Math.random() * 3 + 2;\n",
       "            star.style.animation = `twinkle ${duration}s infinite alternate`;\n",
       "            \n",
       "            starsContainer.appendChild(star);\n",
       "        }\n",
       "        \n",
       "        // Add keyframe animation for twinkling stars\n",
       "        const styleSheet = document.styleSheets[0];\n",
       "        styleSheet.insertRule(`\n",
       "            @keyframes twinkle {\n",
       "                0% { opacity: 0.3; }\n",
       "                100% { opacity: 1; }\n",
       "            }\n",
       "        `, styleSheet.cssRules.length);\n",
       "    </script>\n",
       "</body>\n",
       "</html>"
      ],
      "text/plain": [
       "<IPython.core.display.HTML object>"
      ]
     },
     "metadata": {},
     "output_type": "display_data"
    }
   ],
   "source": [
    "from sqlalchemy import create_engine, text\n",
    "import pandas as pd\n",
    "from vnstock import Vnstock\n",
    "import time\n",
    "\n",
    "def connect(host, user, database, password):\n",
    "    \"\"\"Establishes a connection to the SQL database.\"\"\"\n",
    "    engine = create_engine(f'mysql+pymysql://{user}:{password}@{host}/{database}')\n",
    "    connection = engine.connect()\n",
    "    print(\"Connection successful!\")\n",
    "    return connection\n",
    "\n",
    "\n",
    "def get_data(query):\n",
    "    try:\n",
    "        # Establish connection\n",
    "        engine = connect('localhost', 'root', 'STOCK', 'Eninoskybaby94$')\n",
    "        # Define your SQL query\n",
    "        df = pd.read_sql(query, con=engine)\n",
    "        # Close the connection\n",
    "        engine.close()\n",
    "        return df\n",
    "    except Exception as e:\n",
    "        print(f\"An error occurred: {e}\")\n",
    "        return None\n",
    "def cash_flow(all_symbols):\n",
    "        # Connect to the database\n",
    "        #engine = connect('localhost', 'root', 'STOCK', 'Eninoskybaby94$')\n",
    "        # Fetch all symbols from the database\n",
    "        # Fetch cash flow data for each symbol\n",
    "        # Initialize an empty list to store DataFrames\n",
    "        data =[]\n",
    "        try:\n",
    "            # Loop through each symbol and fetch data\n",
    "            for symbol in all_symbols:\n",
    "                df_cashflow = Vnstock(show_log=False).stock(symbol=symbol, source='VCI').finance.cash_flow(period='year', dropna=True)\n",
    "                time.sleep(2)\n",
    "                data.append(df_cashflow)\n",
    "            CF = pd.concat(data) \n",
    "            print(\"Data inserted successfully into the Cash_flow table.\")\n",
    "        except Exception as e:\n",
    "            print(f\"An error occurred while fetching data for {symbol}: {e}\")\n",
    "            pass\n",
    "        return CF\n",
    "        # Close the connection\n",
    "        #engine.close()\n",
    "def company_profile(all_symbols):\n",
    "        # Connect to the database\n",
    "        engine = connect('localhost', 'root', 'STOCK', 'Eninoskybaby94$')\n",
    "        data =[]\n",
    "        for symbol in all_symbols:\n",
    "            try:\n",
    "                company = Vnstock(show_log=False).stock(symbol=symbol, source='TCBS').company.overview()\n",
    "                company =company.iloc[:, [0,2,5,7]]\n",
    "                data.append(company)\n",
    "            except Exception:\n",
    "                    pass\n",
    "            time.sleep(1)\n",
    "        df = pd.concat(data)\n",
    "        df.to_sql('Company_profile', con=engine, if_exists='replace', index=False)\n",
    "        print(\"Data inserted successfully into the Company_profile table.\")"
   ]
  },
  {
   "cell_type": "code",
   "execution_count": 2,
   "metadata": {},
   "outputs": [
    {
     "name": "stdout",
     "output_type": "stream",
     "text": [
      "Connection successful!\n",
      "  symbol  volume\n",
      "0    S55     452\n",
      "1    VC3    2400\n",
      "2    SJD   29585\n",
      "3    SFI    1100\n",
      "4    PAC   24010\n"
     ]
    }
   ],
   "source": [
    "liquidity = get_data('SELECT * FROM Volume')\n",
    "# Display the first few rows of the DataFrame\n",
    "print(liquidity.head())"
   ]
  },
  {
   "cell_type": "markdown",
   "metadata": {},
   "source": [
    "* Bước 1: Lọc cổ phiếu"
   ]
  },
  {
   "cell_type": "code",
   "execution_count": 3,
   "metadata": {},
   "outputs": [
    {
     "name": "stdout",
     "output_type": "stream",
     "text": [
      "Connection successful!\n"
     ]
    },
    {
     "data": {
      "application/vnd.microsoft.datawrangler.viewer.v0+json": {
       "columns": [
        {
         "name": "index",
         "rawType": "int64",
         "type": "integer"
        },
        {
         "name": "Symbol",
         "rawType": "object",
         "type": "string"
        },
        {
         "name": "Quarter",
         "rawType": "object",
         "type": "string"
        },
        {
         "name": "P/E",
         "rawType": "float64",
         "type": "float"
        },
        {
         "name": "P/B",
         "rawType": "float64",
         "type": "float"
        },
        {
         "name": "EPS",
         "rawType": "float64",
         "type": "float"
        }
       ],
       "conversionMethod": "pd.DataFrame",
       "ref": "3fac09b5-53b6-4948-9fd4-63bd6167512a",
       "rows": [
        [
         "0",
         "YEG",
         "3/2024",
         "25.4994187227",
         "1.3302576856",
         "190.32972271958516"
        ],
        [
         "1",
         "YEG",
         "2/2024",
         "23.5928096193",
         "0.9314618048",
         "87.29001707529324"
        ],
        [
         "2",
         "YEG",
         "1/2024",
         "25.0990157539",
         "0.9769861333",
         "125.37246871847069"
        ],
        [
         "3",
         "YEG",
         "4/2023",
         "34.2664060042",
         "0.8813806768",
         "112.73468421005511"
        ],
        [
         "4",
         "YEG",
         "3/2023",
         "52.2915385937",
         "1.0380218522",
         "46.6460164019982"
        ],
        [
         "5",
         "YEG",
         "2/2023",
         "26.0387661622",
         "0.9153381751",
         "76.47830560180623"
        ],
        [
         "6",
         "YEG",
         "1/2023",
         "38.7270787854",
         "0.4722276579",
         "132.21982832591132"
        ],
        [
         "7",
         "YEG",
         "4/2022",
         "28.8301586513",
         "0.3515472564",
         "68.32508962285384"
        ],
        [
         "8",
         "YEG",
         "3/2022",
         "1.2264958903",
         "0.3041106913",
         "314.3335146634421"
        ],
        [
         "9",
         "YEG",
         "2/2022",
         "2.1932131372",
         "0.5438090487",
         "186.90260117913164"
        ],
        [
         "10",
         "YEG",
         "1/2022",
         "12.0323761151",
         "0.8587941964",
         "27.88216285899014"
        ],
        [
         "11",
         "YEG",
         "4/2021",
         "29.3944530199",
         "0.6579970296",
         "8811.581917602985"
        ],
        [
         "12",
         "YEG",
         "3/2021",
         "-1.7282764235",
         "0.990167602",
         "-1981.907692296872"
        ],
        [
         "13",
         "YEG",
         "2/2021",
         "-1.6832084292",
         "0.7019226744",
         "-4838.0051567508"
        ],
        [
         "14",
         "YEG",
         "1/2021",
         "-3.8624516623",
         "0.6346737711",
         "-1457.5570628780695"
        ],
        [
         "15",
         "YEG",
         "4/2020",
         "-3.7552217246",
         "0.7872500845",
         "-3021.901272149639"
        ],
        [
         "16",
         "YEG",
         "3/2020",
         "-8.1005370802",
         "1.2120059252",
         "398.7155573177057"
        ],
        [
         "17",
         "YEG",
         "2/2020",
         "-4.7875332514",
         "1.4117650881",
         "-100.93637883517016"
        ],
        [
         "18",
         "YEG",
         "1/2020",
         "-4.6366628425",
         "1.7087663572",
         "120.63374519600126"
        ],
        [
         "19",
         "YEG",
         "4/2019",
         "-4.9924462094",
         "1.8183446152",
         "-5353.757091596221"
        ],
        [
         "20",
         "YEG",
         "3/2019",
         "-6.6730970325",
         "0.9303390588",
         "-4068.1611446806014"
        ],
        [
         "21",
         "YEG",
         "2/2019",
         "-110.3587869842",
         "1.2111160354",
         "-3420.845868422119"
        ],
        [
         "22",
         "YEG",
         "1/2019",
         "16.1402413151",
         "1.3944002318",
         "242.70997333118956"
        ],
        [
         "23",
         "YEG",
         "4/2018",
         "24.6399407824",
         "2.2731860037",
         "1370.9356439878711"
        ],
        [
         "24",
         "YEG",
         "3/2018",
         "53.1787835008",
         "4.9431924058",
         "1158.2313388555897"
        ],
        [
         "25",
         "YEG",
         "2/2018",
         "79.277119242",
         "3.9160271087",
         "1427.9433153905418"
        ],
        [
         "26",
         "YEG",
         "1/2018",
         "0.0",
         "0.0",
         "1360.8744392759247"
        ],
        [
         "27",
         "YEG",
         "4/2017",
         "113.1952747973",
         "28.7602079146",
         "817.1377709209933"
        ],
        [
         "28",
         "YBM",
         "3/2024",
         "10.9659848376",
         "0.813724374",
         "127.61570236953037"
        ],
        [
         "29",
         "YBM",
         "2/2024",
         "10.6043915213",
         "0.8844697437",
         "344.6461591286081"
        ],
        [
         "30",
         "YBM",
         "1/2024",
         "11.8851485189",
         "0.8661108408",
         "270.2206517117626"
        ],
        [
         "31",
         "YBM",
         "4/2023",
         "10.667540703",
         "0.7898176928",
         "215.02382621392627"
        ],
        [
         "32",
         "YBM",
         "3/2023",
         "8.6742908886",
         "0.7079284979",
         "235.70562815911742"
        ],
        [
         "33",
         "YBM",
         "2/2023",
         "9.3031488688",
         "0.6871709123",
         "221.40244274777132"
        ],
        [
         "34",
         "YBM",
         "1/2023",
         "8.539672227",
         "0.6012734563",
         "249.79414736347437"
        ],
        [
         "35",
         "YBM",
         "4/2022",
         "8.9584908432",
         "0.5055739238",
         "307.5899301952184"
        ],
        [
         "36",
         "YBM",
         "3/2022",
         "5.1218430516",
         "0.456067842",
         "121.983758465106"
        ],
        [
         "37",
         "YBM",
         "2/2022",
         "5.3445511539",
         "0.5369707747",
         "198.88601267982668"
        ],
        [
         "38",
         "YBM",
         "1/2022",
         "7.4559885282",
         "0.6751209039",
         "204.5655768440015"
        ],
        [
         "39",
         "YBM",
         "4/2021",
         "9.0901657519",
         "0.7491793127",
         "548.3968535400297"
        ],
        [
         "40",
         "YBM",
         "3/2021",
         "13.7366143018",
         "0.7381966202",
         "247.50390954329686"
        ],
        [
         "41",
         "YBM",
         "2/2021",
         "9.2505494254",
         "0.6771216174",
         "152.96891113771585"
        ],
        [
         "42",
         "YBM",
         "1/2021",
         "7.2150210667",
         "0.5418411964",
         "198.4157021597384"
        ],
        [
         "43",
         "YBM",
         "4/2020",
         "7.3759809921",
         "0.5707985836",
         "78.13419874852097"
        ],
        [
         "44",
         "YBM",
         "3/2020",
         "6.0514558136",
         "0.5093841739",
         "450.5159910432815"
        ],
        [
         "45",
         "YBM",
         "2/2020",
         "8.6389617203",
         "0.4501373859",
         "189.07834918894423"
        ],
        [
         "46",
         "YBM",
         "1/2020",
         "5.7845652096",
         "0.3629505712",
         "224.26420522409978"
        ],
        [
         "47",
         "YBM",
         "4/2019",
         "5.3690024972",
         "0.312498876",
         "140.85836685342815"
        ],
        [
         "48",
         "YBM",
         "3/2019",
         "4.4471175598",
         "0.3004909881",
         "44.250625040210124"
        ],
        [
         "49",
         "YBM",
         "2/2019",
         "3.1329953841",
         "0.4322463369",
         "299.409546513677"
        ]
       ],
       "shape": {
        "columns": 5,
        "rows": 29661
       }
      },
      "text/html": [
       "<div>\n",
       "<style scoped>\n",
       "    .dataframe tbody tr th:only-of-type {\n",
       "        vertical-align: middle;\n",
       "    }\n",
       "\n",
       "    .dataframe tbody tr th {\n",
       "        vertical-align: top;\n",
       "    }\n",
       "\n",
       "    .dataframe thead th {\n",
       "        text-align: right;\n",
       "    }\n",
       "</style>\n",
       "<table border=\"1\" class=\"dataframe\">\n",
       "  <thead>\n",
       "    <tr style=\"text-align: right;\">\n",
       "      <th></th>\n",
       "      <th>Symbol</th>\n",
       "      <th>Quarter</th>\n",
       "      <th>P/E</th>\n",
       "      <th>P/B</th>\n",
       "      <th>EPS</th>\n",
       "    </tr>\n",
       "  </thead>\n",
       "  <tbody>\n",
       "    <tr>\n",
       "      <th>0</th>\n",
       "      <td>YEG</td>\n",
       "      <td>3/2024</td>\n",
       "      <td>25.499419</td>\n",
       "      <td>1.330258</td>\n",
       "      <td>190.329723</td>\n",
       "    </tr>\n",
       "    <tr>\n",
       "      <th>1</th>\n",
       "      <td>YEG</td>\n",
       "      <td>2/2024</td>\n",
       "      <td>23.592810</td>\n",
       "      <td>0.931462</td>\n",
       "      <td>87.290017</td>\n",
       "    </tr>\n",
       "    <tr>\n",
       "      <th>2</th>\n",
       "      <td>YEG</td>\n",
       "      <td>1/2024</td>\n",
       "      <td>25.099016</td>\n",
       "      <td>0.976986</td>\n",
       "      <td>125.372469</td>\n",
       "    </tr>\n",
       "    <tr>\n",
       "      <th>3</th>\n",
       "      <td>YEG</td>\n",
       "      <td>4/2023</td>\n",
       "      <td>34.266406</td>\n",
       "      <td>0.881381</td>\n",
       "      <td>112.734684</td>\n",
       "    </tr>\n",
       "    <tr>\n",
       "      <th>4</th>\n",
       "      <td>YEG</td>\n",
       "      <td>3/2023</td>\n",
       "      <td>52.291539</td>\n",
       "      <td>1.038022</td>\n",
       "      <td>46.646016</td>\n",
       "    </tr>\n",
       "    <tr>\n",
       "      <th>...</th>\n",
       "      <td>...</td>\n",
       "      <td>...</td>\n",
       "      <td>...</td>\n",
       "      <td>...</td>\n",
       "      <td>...</td>\n",
       "    </tr>\n",
       "    <tr>\n",
       "      <th>29656</th>\n",
       "      <td>AAA</td>\n",
       "      <td>1/2014</td>\n",
       "      <td>7.408135</td>\n",
       "      <td>0.695347</td>\n",
       "      <td>740.557827</td>\n",
       "    </tr>\n",
       "    <tr>\n",
       "      <th>29657</th>\n",
       "      <td>AAA</td>\n",
       "      <td>4/2013</td>\n",
       "      <td>7.749043</td>\n",
       "      <td>0.783334</td>\n",
       "      <td>575.334411</td>\n",
       "    </tr>\n",
       "    <tr>\n",
       "      <th>29658</th>\n",
       "      <td>AAA</td>\n",
       "      <td>3/2013</td>\n",
       "      <td>6.025149</td>\n",
       "      <td>0.772142</td>\n",
       "      <td>666.123702</td>\n",
       "    </tr>\n",
       "    <tr>\n",
       "      <th>29659</th>\n",
       "      <td>AAA</td>\n",
       "      <td>2/2013</td>\n",
       "      <td>4.033581</td>\n",
       "      <td>0.596731</td>\n",
       "      <td>663.724346</td>\n",
       "    </tr>\n",
       "    <tr>\n",
       "      <th>29660</th>\n",
       "      <td>AAA</td>\n",
       "      <td>1/2013</td>\n",
       "      <td>3.075234</td>\n",
       "      <td>0.503438</td>\n",
       "      <td>869.353715</td>\n",
       "    </tr>\n",
       "  </tbody>\n",
       "</table>\n",
       "<p>29661 rows × 5 columns</p>\n",
       "</div>"
      ],
      "text/plain": [
       "      Symbol Quarter        P/E       P/B         EPS\n",
       "0        YEG  3/2024  25.499419  1.330258  190.329723\n",
       "1        YEG  2/2024  23.592810  0.931462   87.290017\n",
       "2        YEG  1/2024  25.099016  0.976986  125.372469\n",
       "3        YEG  4/2023  34.266406  0.881381  112.734684\n",
       "4        YEG  3/2023  52.291539  1.038022   46.646016\n",
       "...      ...     ...        ...       ...         ...\n",
       "29656    AAA  1/2014   7.408135  0.695347  740.557827\n",
       "29657    AAA  4/2013   7.749043  0.783334  575.334411\n",
       "29658    AAA  3/2013   6.025149  0.772142  666.123702\n",
       "29659    AAA  2/2013   4.033581  0.596731  663.724346\n",
       "29660    AAA  1/2013   3.075234  0.503438  869.353715\n",
       "\n",
       "[29661 rows x 5 columns]"
      ]
     },
     "execution_count": 3,
     "metadata": {},
     "output_type": "execute_result"
    }
   ],
   "source": [
    "FR = get_data('SELECT * FROM view_finance_ratio')\n",
    "FR"
   ]
  },
  {
   "cell_type": "code",
   "execution_count": 4,
   "metadata": {},
   "outputs": [
    {
     "name": "stdout",
     "output_type": "stream",
     "text": [
      "Connection successful!\n"
     ]
    },
    {
     "data": {
      "application/vnd.microsoft.datawrangler.viewer.v0+json": {
       "columns": [
        {
         "name": "index",
         "rawType": "int64",
         "type": "integer"
        },
        {
         "name": "Symbol",
         "rawType": "object",
         "type": "string"
        },
        {
         "name": "TIME",
         "rawType": "object",
         "type": "unknown"
        },
        {
         "name": "daily_return",
         "rawType": "float64",
         "type": "float"
        }
       ],
       "conversionMethod": "pd.DataFrame",
       "ref": "969a3899-f5ee-4de5-b3c0-059b537b579d",
       "rows": [
        [
         "0",
         "AAA",
         "2012-01-03",
         "0.015325670498084306"
        ],
        [
         "1",
         "AAA",
         "2012-01-04",
         "0.018867924528301987"
        ],
        [
         "2",
         "AAA",
         "2012-01-05",
         "-0.007407407407407414"
        ],
        [
         "3",
         "AAA",
         "2012-01-06",
         "-0.018656716417910547"
        ],
        [
         "4",
         "AAA",
         "2012-01-09",
         "0.019011406844106567"
        ],
        [
         "5",
         "AAA",
         "2012-01-10",
         "0.048507462686567124"
        ],
        [
         "6",
         "AAA",
         "2012-01-11",
         "-0.01423487544483987"
        ],
        [
         "7",
         "AAA",
         "2012-01-12",
         "-0.007220216606498201"
        ],
        [
         "8",
         "AAA",
         "2012-01-13",
         "0.007272727272727279"
        ],
        [
         "9",
         "AAA",
         "2012-01-16",
         "0.025270758122743625"
        ]
       ],
       "shape": {
        "columns": 3,
        "rows": 10
       }
      },
      "text/html": [
       "<div>\n",
       "<style scoped>\n",
       "    .dataframe tbody tr th:only-of-type {\n",
       "        vertical-align: middle;\n",
       "    }\n",
       "\n",
       "    .dataframe tbody tr th {\n",
       "        vertical-align: top;\n",
       "    }\n",
       "\n",
       "    .dataframe thead th {\n",
       "        text-align: right;\n",
       "    }\n",
       "</style>\n",
       "<table border=\"1\" class=\"dataframe\">\n",
       "  <thead>\n",
       "    <tr style=\"text-align: right;\">\n",
       "      <th></th>\n",
       "      <th>Symbol</th>\n",
       "      <th>TIME</th>\n",
       "      <th>daily_return</th>\n",
       "    </tr>\n",
       "  </thead>\n",
       "  <tbody>\n",
       "    <tr>\n",
       "      <th>0</th>\n",
       "      <td>AAA</td>\n",
       "      <td>2012-01-03</td>\n",
       "      <td>0.015326</td>\n",
       "    </tr>\n",
       "    <tr>\n",
       "      <th>1</th>\n",
       "      <td>AAA</td>\n",
       "      <td>2012-01-04</td>\n",
       "      <td>0.018868</td>\n",
       "    </tr>\n",
       "    <tr>\n",
       "      <th>2</th>\n",
       "      <td>AAA</td>\n",
       "      <td>2012-01-05</td>\n",
       "      <td>-0.007407</td>\n",
       "    </tr>\n",
       "    <tr>\n",
       "      <th>3</th>\n",
       "      <td>AAA</td>\n",
       "      <td>2012-01-06</td>\n",
       "      <td>-0.018657</td>\n",
       "    </tr>\n",
       "    <tr>\n",
       "      <th>4</th>\n",
       "      <td>AAA</td>\n",
       "      <td>2012-01-09</td>\n",
       "      <td>0.019011</td>\n",
       "    </tr>\n",
       "    <tr>\n",
       "      <th>5</th>\n",
       "      <td>AAA</td>\n",
       "      <td>2012-01-10</td>\n",
       "      <td>0.048507</td>\n",
       "    </tr>\n",
       "    <tr>\n",
       "      <th>6</th>\n",
       "      <td>AAA</td>\n",
       "      <td>2012-01-11</td>\n",
       "      <td>-0.014235</td>\n",
       "    </tr>\n",
       "    <tr>\n",
       "      <th>7</th>\n",
       "      <td>AAA</td>\n",
       "      <td>2012-01-12</td>\n",
       "      <td>-0.007220</td>\n",
       "    </tr>\n",
       "    <tr>\n",
       "      <th>8</th>\n",
       "      <td>AAA</td>\n",
       "      <td>2012-01-13</td>\n",
       "      <td>0.007273</td>\n",
       "    </tr>\n",
       "    <tr>\n",
       "      <th>9</th>\n",
       "      <td>AAA</td>\n",
       "      <td>2012-01-16</td>\n",
       "      <td>0.025271</td>\n",
       "    </tr>\n",
       "  </tbody>\n",
       "</table>\n",
       "</div>"
      ],
      "text/plain": [
       "  Symbol        TIME  daily_return\n",
       "0    AAA  2012-01-03      0.015326\n",
       "1    AAA  2012-01-04      0.018868\n",
       "2    AAA  2012-01-05     -0.007407\n",
       "3    AAA  2012-01-06     -0.018657\n",
       "4    AAA  2012-01-09      0.019011\n",
       "5    AAA  2012-01-10      0.048507\n",
       "6    AAA  2012-01-11     -0.014235\n",
       "7    AAA  2012-01-12     -0.007220\n",
       "8    AAA  2012-01-13      0.007273\n",
       "9    AAA  2012-01-16      0.025271"
      ]
     },
     "execution_count": 4,
     "metadata": {},
     "output_type": "execute_result"
    }
   ],
   "source": [
    "# Get the data from the SQL database \n",
    "RT = get_data('Select * from Stock_returns_12_23')\n",
    "RT.head(10)"
   ]
  },
  {
   "cell_type": "code",
   "execution_count": 5,
   "metadata": {},
   "outputs": [
    {
     "data": {
      "application/vnd.microsoft.datawrangler.viewer.v0+json": {
       "columns": [
        {
         "name": "index",
         "rawType": "int64",
         "type": "integer"
        },
        {
         "name": "Symbol",
         "rawType": "object",
         "type": "string"
        },
        {
         "name": "TIME",
         "rawType": "object",
         "type": "unknown"
        },
        {
         "name": "daily_return",
         "rawType": "float64",
         "type": "float"
        }
       ],
       "conversionMethod": "pd.DataFrame",
       "ref": "00314788-2fcb-4343-9296-49467b78ed4b",
       "rows": [
        [
         "0",
         "AAA",
         "2012-01-03",
         "0.015325670498084306"
        ],
        [
         "1",
         "AAA",
         "2012-01-04",
         "0.018867924528301987"
        ],
        [
         "2",
         "AAA",
         "2012-01-05",
         "-0.007407407407407414"
        ],
        [
         "3",
         "AAA",
         "2012-01-06",
         "-0.018656716417910547"
        ],
        [
         "4",
         "AAA",
         "2012-01-09",
         "0.019011406844106567"
        ],
        [
         "5",
         "AAA",
         "2012-01-10",
         "0.048507462686567124"
        ],
        [
         "6",
         "AAA",
         "2012-01-11",
         "-0.01423487544483987"
        ],
        [
         "7",
         "AAA",
         "2012-01-12",
         "-0.007220216606498201"
        ],
        [
         "8",
         "AAA",
         "2012-01-13",
         "0.007272727272727279"
        ],
        [
         "9",
         "AAA",
         "2012-01-16",
         "0.025270758122743625"
        ],
        [
         "10",
         "AAA",
         "2012-01-17",
         "-0.01760563380281684"
        ],
        [
         "11",
         "AAA",
         "2012-01-18",
         "0.017921146953404955"
        ],
        [
         "12",
         "AAA",
         "2012-01-19",
         "0.0387323943661973"
        ],
        [
         "13",
         "AAA",
         "2012-01-20",
         "-0.013559322033898317"
        ],
        [
         "14",
         "AAA",
         "2012-01-30",
         "0.013745704467353964"
        ],
        [
         "15",
         "AAA",
         "2012-01-31",
         "0.03389830508474564"
        ],
        [
         "16",
         "AAA",
         "2012-02-01",
         "0.019672131147541003"
        ],
        [
         "17",
         "AAA",
         "2012-02-02",
         "0.054662379421221846"
        ],
        [
         "18",
         "AAA",
         "2012-02-03",
         "-0.05182926829268291"
        ],
        [
         "19",
         "AAA",
         "2012-02-06",
         "-0.028938906752411533"
        ],
        [
         "20",
         "AAA",
         "2012-02-07",
         "0.03973509933774838"
        ],
        [
         "21",
         "AAA",
         "2012-02-08",
         "0.05095541401273875"
        ],
        [
         "22",
         "AAA",
         "2012-02-09",
         "0.006060606060606067"
        ],
        [
         "23",
         "AAA",
         "2012-02-10",
         "-0.03313253012048189"
        ],
        [
         "24",
         "AAA",
         "2012-02-13",
         "-0.03115264797507791"
        ],
        [
         "25",
         "AAA",
         "2012-02-14",
         "0.032154340836012894"
        ],
        [
         "26",
         "AAA",
         "2012-02-15",
         "-0.015576323987538885"
        ],
        [
         "27",
         "AAA",
         "2012-02-16",
         "0.0"
        ],
        [
         "28",
         "AAA",
         "2012-02-17",
         "0.028481012658227802"
        ],
        [
         "29",
         "AAA",
         "2012-02-20",
         "0.0646153846153846"
        ],
        [
         "30",
         "AAA",
         "2012-02-21",
         "0.020231213872832325"
        ],
        [
         "31",
         "AAA",
         "2012-02-22",
         "0.03966005665722383"
        ],
        [
         "32",
         "AAA",
         "2012-02-23",
         "0.03814713896457769"
        ],
        [
         "33",
         "AAA",
         "2012-02-24",
         "0.010498687664042003"
        ],
        [
         "34",
         "AAA",
         "2012-02-27",
         "0.04155844155844148"
        ],
        [
         "35",
         "AAA",
         "2012-02-28",
         "-0.057356608478802994"
        ],
        [
         "36",
         "AAA",
         "2012-02-29",
         "0.013227513227513298"
        ],
        [
         "37",
         "AAA",
         "2012-03-01",
         "-0.005221932114882511"
        ],
        [
         "38",
         "AAA",
         "2012-03-02",
         "0.06561679790026236"
        ],
        [
         "39",
         "AAA",
         "2012-03-05",
         "0.05172413793103448"
        ],
        [
         "40",
         "AAA",
         "2012-03-06",
         "-0.01639344262295068"
        ],
        [
         "41",
         "AAA",
         "2012-03-07",
         "-0.011904761904761862"
        ],
        [
         "42",
         "AAA",
         "2012-03-08",
         "-0.07710843373493982"
        ],
        [
         "43",
         "AAA",
         "2012-03-09",
         "0.04177545691906009"
        ],
        [
         "44",
         "AAA",
         "2012-03-12",
         "0.03508771929824553"
        ],
        [
         "45",
         "AAA",
         "2012-03-13",
         "-0.012106537530266302"
        ],
        [
         "46",
         "AAA",
         "2012-03-14",
         "-0.02696078431372546"
        ],
        [
         "47",
         "AAA",
         "2012-03-15",
         "0.052896725440805925"
        ],
        [
         "48",
         "AAA",
         "2012-03-16",
         "-0.007177033492822814"
        ],
        [
         "49",
         "AAA",
         "2012-03-19",
         "0.007228915662650447"
        ]
       ],
       "shape": {
        "columns": 3,
        "rows": 963942
       }
      },
      "text/html": [
       "<div>\n",
       "<style scoped>\n",
       "    .dataframe tbody tr th:only-of-type {\n",
       "        vertical-align: middle;\n",
       "    }\n",
       "\n",
       "    .dataframe tbody tr th {\n",
       "        vertical-align: top;\n",
       "    }\n",
       "\n",
       "    .dataframe thead th {\n",
       "        text-align: right;\n",
       "    }\n",
       "</style>\n",
       "<table border=\"1\" class=\"dataframe\">\n",
       "  <thead>\n",
       "    <tr style=\"text-align: right;\">\n",
       "      <th></th>\n",
       "      <th>Symbol</th>\n",
       "      <th>TIME</th>\n",
       "      <th>daily_return</th>\n",
       "    </tr>\n",
       "  </thead>\n",
       "  <tbody>\n",
       "    <tr>\n",
       "      <th>0</th>\n",
       "      <td>AAA</td>\n",
       "      <td>2012-01-03</td>\n",
       "      <td>0.015326</td>\n",
       "    </tr>\n",
       "    <tr>\n",
       "      <th>1</th>\n",
       "      <td>AAA</td>\n",
       "      <td>2012-01-04</td>\n",
       "      <td>0.018868</td>\n",
       "    </tr>\n",
       "    <tr>\n",
       "      <th>2</th>\n",
       "      <td>AAA</td>\n",
       "      <td>2012-01-05</td>\n",
       "      <td>-0.007407</td>\n",
       "    </tr>\n",
       "    <tr>\n",
       "      <th>3</th>\n",
       "      <td>AAA</td>\n",
       "      <td>2012-01-06</td>\n",
       "      <td>-0.018657</td>\n",
       "    </tr>\n",
       "    <tr>\n",
       "      <th>4</th>\n",
       "      <td>AAA</td>\n",
       "      <td>2012-01-09</td>\n",
       "      <td>0.019011</td>\n",
       "    </tr>\n",
       "    <tr>\n",
       "      <th>...</th>\n",
       "      <td>...</td>\n",
       "      <td>...</td>\n",
       "      <td>...</td>\n",
       "    </tr>\n",
       "    <tr>\n",
       "      <th>963937</th>\n",
       "      <td>YEG</td>\n",
       "      <td>2023-12-25</td>\n",
       "      <td>0.004348</td>\n",
       "    </tr>\n",
       "    <tr>\n",
       "      <th>963938</th>\n",
       "      <td>YEG</td>\n",
       "      <td>2023-12-26</td>\n",
       "      <td>-0.038961</td>\n",
       "    </tr>\n",
       "    <tr>\n",
       "      <th>963939</th>\n",
       "      <td>YEG</td>\n",
       "      <td>2023-12-27</td>\n",
       "      <td>0.013514</td>\n",
       "    </tr>\n",
       "    <tr>\n",
       "      <th>963940</th>\n",
       "      <td>YEG</td>\n",
       "      <td>2023-12-28</td>\n",
       "      <td>0.066667</td>\n",
       "    </tr>\n",
       "    <tr>\n",
       "      <th>963941</th>\n",
       "      <td>YEG</td>\n",
       "      <td>2023-12-29</td>\n",
       "      <td>0.004167</td>\n",
       "    </tr>\n",
       "  </tbody>\n",
       "</table>\n",
       "<p>963942 rows × 3 columns</p>\n",
       "</div>"
      ],
      "text/plain": [
       "       Symbol        TIME  daily_return\n",
       "0         AAA  2012-01-03      0.015326\n",
       "1         AAA  2012-01-04      0.018868\n",
       "2         AAA  2012-01-05     -0.007407\n",
       "3         AAA  2012-01-06     -0.018657\n",
       "4         AAA  2012-01-09      0.019011\n",
       "...       ...         ...           ...\n",
       "963937    YEG  2023-12-25      0.004348\n",
       "963938    YEG  2023-12-26     -0.038961\n",
       "963939    YEG  2023-12-27      0.013514\n",
       "963940    YEG  2023-12-28      0.066667\n",
       "963941    YEG  2023-12-29      0.004167\n",
       "\n",
       "[963942 rows x 3 columns]"
      ]
     },
     "execution_count": 5,
     "metadata": {},
     "output_type": "execute_result"
    }
   ],
   "source": [
    "import numpy as np\n",
    "# Calculate daily returns\n",
    "RT"
   ]
  },
  {
   "cell_type": "code",
   "execution_count": 6,
   "metadata": {},
   "outputs": [
    {
     "data": {
      "application/vnd.microsoft.datawrangler.viewer.v0+json": {
       "columns": [
        {
         "name": "index",
         "rawType": "int64",
         "type": "integer"
        },
        {
         "name": "Ticker",
         "rawType": "object",
         "type": "string"
        },
        {
         "name": "CV_return",
         "rawType": "float64",
         "type": "float"
        },
        {
         "name": "Cv_colume",
         "rawType": "float64",
         "type": "float"
        }
       ],
       "conversionMethod": "pd.DataFrame",
       "ref": "2382d2e4-efc8-442e-8737-2fb9ea0209bc",
       "rows": [
        [
         "0",
         "AAA",
         "45.30778123362178",
         "1.7915296177113629"
        ],
        [
         "1",
         "AAM",
         "82.20398478138226",
         "5.332478908424789"
        ],
        [
         "2",
         "AAT",
         "-23.4373035061236",
         "0.9224270836728411"
        ],
        [
         "3",
         "ABR",
         "38.87985347314863",
         "8.55833611435175"
        ],
        [
         "4",
         "ABS",
         "113.6170882297922",
         "1.6978420760420116"
        ],
        [
         "5",
         "ABT",
         "43.798950129378014",
         "22.134914816970365"
        ],
        [
         "6",
         "ACB",
         "34.07989523987805",
         "1.7679524771218778"
        ],
        [
         "7",
         "ACC",
         "28.903513346161322",
         "7.011136273435873"
        ],
        [
         "8",
         "ACG",
         "-35.19683033651057",
         "1.0470030939011221"
        ],
        [
         "9",
         "ACL",
         "182.09172710922803",
         "3.6225437657049007"
        ],
        [
         "10",
         "ADG",
         "-110.6982536487006",
         "1.385266762225827"
        ],
        [
         "11",
         "ADP",
         "42.24638266394461",
         "8.70388343620807"
        ],
        [
         "12",
         "ADS",
         "59.94004610081809",
         "1.8074494656593547"
        ],
        [
         "13",
         "AGG",
         "-33.53564472218184",
         "1.4035950152576164"
        ],
        [
         "14",
         "AGM",
         "-216.14572153534533",
         "11.110034110040415"
        ],
        [
         "15",
         "AGR",
         "51.59171531274678",
         "2.242689086769056"
        ],
        [
         "16",
         "ANV",
         "21.603904597347764",
         "2.1608429856700657"
        ],
        [
         "17",
         "APG",
         "41.26714035605598",
         "2.445780681704659"
        ],
        [
         "18",
         "APH",
         "-29.396744131181876",
         "1.2309048690220232"
        ],
        [
         "19",
         "ASG",
         "-24.239924562187625",
         "1.8495250127708351"
        ],
        [
         "20",
         "ASM",
         "67.302138815855",
         "1.0596139998808678"
        ],
        [
         "21",
         "ASP",
         "67.04573797149692",
         "3.0968917495277473"
        ],
        [
         "22",
         "AST",
         "125.24396449014694",
         "1.1344426263426437"
        ],
        [
         "23",
         "BAF",
         "40.46413291868675",
         "0.6220684674522389"
        ],
        [
         "24",
         "BBC",
         "31.89731697372862",
         "22.491291390063097"
        ],
        [
         "25",
         "BCE",
         "163.9229018023042",
         "3.5521262428402003"
        ],
        [
         "26",
         "BCG",
         "1856.2559760492666",
         "2.5986520574778535"
        ],
        [
         "27",
         "BCM",
         "114.9507619796556",
         "2.1239930578513175"
        ],
        [
         "28",
         "BFC",
         "39.25222643519059",
         "1.6049970119649182"
        ],
        [
         "29",
         "BHN",
         "-49.10090394492933",
         "4.454123480298629"
        ],
        [
         "30",
         "BIC",
         "58.8852639591177",
         "2.471017617269921"
        ],
        [
         "31",
         "BID",
         "36.09791430242361",
         "0.8898361458268083"
        ],
        [
         "32",
         "BKG",
         "-42.373722737063716",
         "2.0447187204752537"
        ],
        [
         "33",
         "BMC",
         "-94.5945762479128",
         "2.1086814343683296"
        ],
        [
         "34",
         "BMI",
         "43.02068601504568",
         "2.080154076754214"
        ],
        [
         "35",
         "BMP",
         "33.90385397602811",
         "1.6729240136230894"
        ],
        [
         "36",
         "BRC",
         "33.67307526811479",
         "8.039717674012488"
        ],
        [
         "37",
         "BSI",
         "27.731346486209464",
         "3.0266818670300077"
        ],
        [
         "38",
         "BTP",
         "55.895727838699166",
         "3.481135747606508"
        ],
        [
         "39",
         "BTT",
         "35.344125682827475",
         "14.640824786764892"
        ],
        [
         "40",
         "BVH",
         "325.4346797992121",
         "1.2420527196698181"
        ],
        [
         "41",
         "BWE",
         "50.199080231596625",
         "1.6423217083887756"
        ],
        [
         "42",
         "C32",
         "167.08787995929742",
         "2.387514264815122"
        ],
        [
         "43",
         "C47",
         "76.96242878672692",
         "2.621154174066961"
        ],
        [
         "44",
         "CCI",
         "27.723274789472256",
         "5.057132760256197"
        ],
        [
         "45",
         "CCL",
         "207.0051249778445",
         "1.7251152411258608"
        ],
        [
         "46",
         "CDC",
         "38.49851891594241",
         "4.1221693583683905"
        ],
        [
         "47",
         "CHP",
         "31.894397951740274",
         "6.069208247537392"
        ],
        [
         "48",
         "CIG",
         "41.49949275378628",
         "6.262937176962581"
        ],
        [
         "49",
         "CII",
         "102.45611695577784",
         "2.01402532052294"
        ]
       ],
       "shape": {
        "columns": 3,
        "rows": 390
       }
      },
      "text/html": [
       "<div>\n",
       "<style scoped>\n",
       "    .dataframe tbody tr th:only-of-type {\n",
       "        vertical-align: middle;\n",
       "    }\n",
       "\n",
       "    .dataframe tbody tr th {\n",
       "        vertical-align: top;\n",
       "    }\n",
       "\n",
       "    .dataframe thead th {\n",
       "        text-align: right;\n",
       "    }\n",
       "</style>\n",
       "<table border=\"1\" class=\"dataframe\">\n",
       "  <thead>\n",
       "    <tr style=\"text-align: right;\">\n",
       "      <th></th>\n",
       "      <th>Ticker</th>\n",
       "      <th>CV_return</th>\n",
       "      <th>Cv_colume</th>\n",
       "    </tr>\n",
       "  </thead>\n",
       "  <tbody>\n",
       "    <tr>\n",
       "      <th>0</th>\n",
       "      <td>AAA</td>\n",
       "      <td>45.307781</td>\n",
       "      <td>1.791530</td>\n",
       "    </tr>\n",
       "    <tr>\n",
       "      <th>1</th>\n",
       "      <td>AAM</td>\n",
       "      <td>82.203985</td>\n",
       "      <td>5.332479</td>\n",
       "    </tr>\n",
       "    <tr>\n",
       "      <th>2</th>\n",
       "      <td>AAT</td>\n",
       "      <td>-23.437304</td>\n",
       "      <td>0.922427</td>\n",
       "    </tr>\n",
       "    <tr>\n",
       "      <th>3</th>\n",
       "      <td>ABR</td>\n",
       "      <td>38.879853</td>\n",
       "      <td>8.558336</td>\n",
       "    </tr>\n",
       "    <tr>\n",
       "      <th>4</th>\n",
       "      <td>ABS</td>\n",
       "      <td>113.617088</td>\n",
       "      <td>1.697842</td>\n",
       "    </tr>\n",
       "    <tr>\n",
       "      <th>...</th>\n",
       "      <td>...</td>\n",
       "      <td>...</td>\n",
       "      <td>...</td>\n",
       "    </tr>\n",
       "    <tr>\n",
       "      <th>385</th>\n",
       "      <td>VTB</td>\n",
       "      <td>20.346879</td>\n",
       "      <td>5.866578</td>\n",
       "    </tr>\n",
       "    <tr>\n",
       "      <th>386</th>\n",
       "      <td>VTO</td>\n",
       "      <td>56.486457</td>\n",
       "      <td>2.210871</td>\n",
       "    </tr>\n",
       "    <tr>\n",
       "      <th>387</th>\n",
       "      <td>VTP</td>\n",
       "      <td>82.625558</td>\n",
       "      <td>1.769495</td>\n",
       "    </tr>\n",
       "    <tr>\n",
       "      <th>388</th>\n",
       "      <td>YBM</td>\n",
       "      <td>-133.209569</td>\n",
       "      <td>5.166161</td>\n",
       "    </tr>\n",
       "    <tr>\n",
       "      <th>389</th>\n",
       "      <td>YEG</td>\n",
       "      <td>-21.283688</td>\n",
       "      <td>2.678098</td>\n",
       "    </tr>\n",
       "  </tbody>\n",
       "</table>\n",
       "<p>390 rows × 3 columns</p>\n",
       "</div>"
      ],
      "text/plain": [
       "    Ticker   CV_return  Cv_colume\n",
       "0      AAA   45.307781   1.791530\n",
       "1      AAM   82.203985   5.332479\n",
       "2      AAT  -23.437304   0.922427\n",
       "3      ABR   38.879853   8.558336\n",
       "4      ABS  113.617088   1.697842\n",
       "..     ...         ...        ...\n",
       "385    VTB   20.346879   5.866578\n",
       "386    VTO   56.486457   2.210871\n",
       "387    VTP   82.625558   1.769495\n",
       "388    YBM -133.209569   5.166161\n",
       "389    YEG  -21.283688   2.678098\n",
       "\n",
       "[390 rows x 3 columns]"
      ]
     },
     "execution_count": 6,
     "metadata": {},
     "output_type": "execute_result"
    }
   ],
   "source": [
    "from scipy.stats import trim_mean\n",
    "\n",
    "tickers = RT['Symbol'].unique()\n",
    "\n",
    "def get_stock_data(ticker,TRIM_PROPORTION):\n",
    "    try:\n",
    "        # Lấy dữ liệu lịch sử\n",
    "        daily_returns = RT[RT['Symbol'] == ticker]['daily_return']\n",
    "        daily_volume  = liquidity[liquidity['symbol'] == ticker]['volume']\n",
    "        # Tính trimmed mean daily return\n",
    "        trimmed_mean_return = trim_mean(daily_returns, proportiontocut=TRIM_PROPORTION)\n",
    "        trimmed_mean_volume  = trim_mean(daily_volume, proportiontocut=TRIM_PROPORTION)\n",
    "        \n",
    "        # Độ lệch chuẩn của daily return\n",
    "        std_daily_return = daily_returns.std()\n",
    "        std_daily_volume = daily_volume.std()\n",
    "        \n",
    "        # Tính Coefficient of Variation (CV)\n",
    "        cv_return = std_daily_return / trimmed_mean_return if trimmed_mean_return != 0 else float('inf')\n",
    "        cv_colume = std_daily_volume / trimmed_mean_volume if trimmed_mean_volume != 0 else float('inf')       \n",
    "               \n",
    "        return {\n",
    "            'Ticker': ticker,\n",
    "            'CV_return': cv_return,\n",
    "            'Cv_colume': cv_colume,\n",
    "            }\n",
    "    except Exception as e:\n",
    "        print(f\"Error with {ticker}: {e}\")\n",
    "        return None\n",
    "\n",
    "# Lấy dữ liệu cho tất cả cổ phiếu\n",
    "data = []\n",
    "for ticker in tickers:\n",
    "    result = get_stock_data(ticker,0.1)\n",
    "    if result:\n",
    "        data.append(result)\n",
    "\n",
    "# Chuyển sang DataFrame\n",
    "df = pd.DataFrame(data)\n",
    "df"
   ]
  },
  {
   "cell_type": "code",
   "execution_count": 7,
   "metadata": {},
   "outputs": [
    {
     "data": {
      "application/vnd.microsoft.datawrangler.viewer.v0+json": {
       "columns": [
        {
         "name": "index",
         "rawType": "object",
         "type": "string"
        },
        {
         "name": "mean_return",
         "rawType": "float64",
         "type": "float"
        },
        {
         "name": "std_return",
         "rawType": "float64",
         "type": "float"
        },
        {
         "name": "CV_return",
         "rawType": "float64",
         "type": "float"
        }
       ],
       "conversionMethod": "pd.DataFrame",
       "ref": "bec1d440-82fa-4c7a-9f51-86d650dc8436",
       "rows": [
        [
         "count",
         "364.0",
         "364.0",
         "364.0"
        ],
        [
         "mean",
         "0.0008937680472515623",
         "0.02696320986567335",
         "58.15918156556443"
        ],
        [
         "std",
         "0.0004038046159019509",
         "0.006415823508730842",
         "200.2341730296369"
        ],
        [
         "min",
         "1.0625760708289994e-05",
         "0.012900077856783307",
         "10.916787943024627"
        ],
        [
         "25%",
         "0.0006603788259178232",
         "0.022585634778743074",
         "22.8341960745046"
        ],
        [
         "50%",
         "0.0008723190615410011",
         "0.02619939800756615",
         "29.492282048153385"
        ],
        [
         "75%",
         "0.001097983809893185",
         "0.030565155038340706",
         "40.08163023781978"
        ],
        [
         "max",
         "0.002681614107788361",
         "0.05831016876174682",
         "2975.266071313087"
        ]
       ],
       "shape": {
        "columns": 3,
        "rows": 8
       }
      },
      "text/html": [
       "<div>\n",
       "<style scoped>\n",
       "    .dataframe tbody tr th:only-of-type {\n",
       "        vertical-align: middle;\n",
       "    }\n",
       "\n",
       "    .dataframe tbody tr th {\n",
       "        vertical-align: top;\n",
       "    }\n",
       "\n",
       "    .dataframe thead th {\n",
       "        text-align: right;\n",
       "    }\n",
       "</style>\n",
       "<table border=\"1\" class=\"dataframe\">\n",
       "  <thead>\n",
       "    <tr style=\"text-align: right;\">\n",
       "      <th></th>\n",
       "      <th>mean_return</th>\n",
       "      <th>std_return</th>\n",
       "      <th>CV_return</th>\n",
       "    </tr>\n",
       "  </thead>\n",
       "  <tbody>\n",
       "    <tr>\n",
       "      <th>count</th>\n",
       "      <td>364.000000</td>\n",
       "      <td>364.000000</td>\n",
       "      <td>364.000000</td>\n",
       "    </tr>\n",
       "    <tr>\n",
       "      <th>mean</th>\n",
       "      <td>0.000894</td>\n",
       "      <td>0.026963</td>\n",
       "      <td>58.159182</td>\n",
       "    </tr>\n",
       "    <tr>\n",
       "      <th>std</th>\n",
       "      <td>0.000404</td>\n",
       "      <td>0.006416</td>\n",
       "      <td>200.234173</td>\n",
       "    </tr>\n",
       "    <tr>\n",
       "      <th>min</th>\n",
       "      <td>0.000011</td>\n",
       "      <td>0.012900</td>\n",
       "      <td>10.916788</td>\n",
       "    </tr>\n",
       "    <tr>\n",
       "      <th>25%</th>\n",
       "      <td>0.000660</td>\n",
       "      <td>0.022586</td>\n",
       "      <td>22.834196</td>\n",
       "    </tr>\n",
       "    <tr>\n",
       "      <th>50%</th>\n",
       "      <td>0.000872</td>\n",
       "      <td>0.026199</td>\n",
       "      <td>29.492282</td>\n",
       "    </tr>\n",
       "    <tr>\n",
       "      <th>75%</th>\n",
       "      <td>0.001098</td>\n",
       "      <td>0.030565</td>\n",
       "      <td>40.081630</td>\n",
       "    </tr>\n",
       "    <tr>\n",
       "      <th>max</th>\n",
       "      <td>0.002682</td>\n",
       "      <td>0.058310</td>\n",
       "      <td>2975.266071</td>\n",
       "    </tr>\n",
       "  </tbody>\n",
       "</table>\n",
       "</div>"
      ],
      "text/plain": [
       "       mean_return  std_return    CV_return\n",
       "count   364.000000  364.000000   364.000000\n",
       "mean      0.000894    0.026963    58.159182\n",
       "std       0.000404    0.006416   200.234173\n",
       "min       0.000011    0.012900    10.916788\n",
       "25%       0.000660    0.022586    22.834196\n",
       "50%       0.000872    0.026199    29.492282\n",
       "75%       0.001098    0.030565    40.081630\n",
       "max       0.002682    0.058310  2975.266071"
      ]
     },
     "execution_count": 7,
     "metadata": {},
     "output_type": "execute_result"
    }
   ],
   "source": [
    "df_grouped = RT.groupby('Symbol').agg({\n",
    "                            'daily_return': ['mean', 'std'],})\n",
    "df_grouped.columns = ['mean_return', 'std_return']\n",
    "df_grouped = df_grouped.reset_index()\n",
    "df_grouped['CV_return'] = df_grouped['std_return'] / df_grouped['mean_return']\n",
    "df_grouped_RT= df_grouped[(df_grouped['CV_return']>0)].sort_values(by='CV_return', ascending=True, inplace=False)  \n",
    "df_grouped_RT.describe()"
   ]
  },
  {
   "cell_type": "code",
   "execution_count": 8,
   "metadata": {},
   "outputs": [
    {
     "name": "stdout",
     "output_type": "stream",
     "text": [
      "Connection successful!\n"
     ]
    }
   ],
   "source": [
    "VL = get_data('SELECT * FROM Volume')\n"
   ]
  },
  {
   "cell_type": "code",
   "execution_count": 9,
   "metadata": {},
   "outputs": [
    {
     "data": {
      "application/vnd.microsoft.datawrangler.viewer.v0+json": {
       "columns": [
        {
         "name": "index",
         "rawType": "object",
         "type": "string"
        },
        {
         "name": "mean_volume",
         "rawType": "float64",
         "type": "float"
        },
        {
         "name": "std_volume",
         "rawType": "float64",
         "type": "float"
        },
        {
         "name": "CV_volume",
         "rawType": "float64",
         "type": "float"
        }
       ],
       "conversionMethod": "pd.DataFrame",
       "ref": "65c72357-13ac-4587-a04b-bab8107c9527",
       "rows": [
        [
         "count",
         "703.0",
         "703.0",
         "703.0"
        ],
        [
         "mean",
         "498820.186512954",
         "659353.4280112793",
         "2.835194338735232"
        ],
        [
         "std",
         "1216337.7832473675",
         "1553388.108573281",
         "2.8411206475823083"
        ],
        [
         "min",
         "1.177336276674025",
         "12.078421403128287",
         "0.48018546103402493"
        ],
        [
         "25%",
         "5715.4825612107925",
         "19129.712500995392",
         "1.405490822725415"
        ],
        [
         "50%",
         "52207.668558077436",
         "106267.9593124427",
         "2.026524639198418"
        ],
        [
         "75%",
         "352234.80302294414",
         "471739.6788300416",
         "3.112704419272208"
        ],
        [
         "max",
         "9002052.943257676",
         "12522902.588987878",
         "29.06341900429246"
        ]
       ],
       "shape": {
        "columns": 3,
        "rows": 8
       }
      },
      "text/html": [
       "<div>\n",
       "<style scoped>\n",
       "    .dataframe tbody tr th:only-of-type {\n",
       "        vertical-align: middle;\n",
       "    }\n",
       "\n",
       "    .dataframe tbody tr th {\n",
       "        vertical-align: top;\n",
       "    }\n",
       "\n",
       "    .dataframe thead th {\n",
       "        text-align: right;\n",
       "    }\n",
       "</style>\n",
       "<table border=\"1\" class=\"dataframe\">\n",
       "  <thead>\n",
       "    <tr style=\"text-align: right;\">\n",
       "      <th></th>\n",
       "      <th>mean_volume</th>\n",
       "      <th>std_volume</th>\n",
       "      <th>CV_volume</th>\n",
       "    </tr>\n",
       "  </thead>\n",
       "  <tbody>\n",
       "    <tr>\n",
       "      <th>count</th>\n",
       "      <td>7.030000e+02</td>\n",
       "      <td>7.030000e+02</td>\n",
       "      <td>703.000000</td>\n",
       "    </tr>\n",
       "    <tr>\n",
       "      <th>mean</th>\n",
       "      <td>4.988202e+05</td>\n",
       "      <td>6.593534e+05</td>\n",
       "      <td>2.835194</td>\n",
       "    </tr>\n",
       "    <tr>\n",
       "      <th>std</th>\n",
       "      <td>1.216338e+06</td>\n",
       "      <td>1.553388e+06</td>\n",
       "      <td>2.841121</td>\n",
       "    </tr>\n",
       "    <tr>\n",
       "      <th>min</th>\n",
       "      <td>1.177336e+00</td>\n",
       "      <td>1.207842e+01</td>\n",
       "      <td>0.480185</td>\n",
       "    </tr>\n",
       "    <tr>\n",
       "      <th>25%</th>\n",
       "      <td>5.715483e+03</td>\n",
       "      <td>1.912971e+04</td>\n",
       "      <td>1.405491</td>\n",
       "    </tr>\n",
       "    <tr>\n",
       "      <th>50%</th>\n",
       "      <td>5.220767e+04</td>\n",
       "      <td>1.062680e+05</td>\n",
       "      <td>2.026525</td>\n",
       "    </tr>\n",
       "    <tr>\n",
       "      <th>75%</th>\n",
       "      <td>3.522348e+05</td>\n",
       "      <td>4.717397e+05</td>\n",
       "      <td>3.112704</td>\n",
       "    </tr>\n",
       "    <tr>\n",
       "      <th>max</th>\n",
       "      <td>9.002053e+06</td>\n",
       "      <td>1.252290e+07</td>\n",
       "      <td>29.063419</td>\n",
       "    </tr>\n",
       "  </tbody>\n",
       "</table>\n",
       "</div>"
      ],
      "text/plain": [
       "        mean_volume    std_volume   CV_volume\n",
       "count  7.030000e+02  7.030000e+02  703.000000\n",
       "mean   4.988202e+05  6.593534e+05    2.835194\n",
       "std    1.216338e+06  1.553388e+06    2.841121\n",
       "min    1.177336e+00  1.207842e+01    0.480185\n",
       "25%    5.715483e+03  1.912971e+04    1.405491\n",
       "50%    5.220767e+04  1.062680e+05    2.026525\n",
       "75%    3.522348e+05  4.717397e+05    3.112704\n",
       "max    9.002053e+06  1.252290e+07   29.063419"
      ]
     },
     "execution_count": 9,
     "metadata": {},
     "output_type": "execute_result"
    }
   ],
   "source": [
    "df_grouped = VL.groupby('symbol').agg({\n",
    "                            'volume': ['mean', 'std'],})\n",
    "df_grouped.columns = ['mean_volume', 'std_volume']\n",
    "df_grouped = df_grouped.reset_index()\n",
    "df_grouped['CV_volume'] = df_grouped['std_volume'] / df_grouped['mean_volume']\n",
    "df_grouped_VL=df_grouped[(df_grouped['CV_volume']>0)].sort_values(by='CV_volume', ascending=True, inplace=False)  \n",
    "df_grouped_VL.describe()"
   ]
  },
  {
   "cell_type": "code",
   "execution_count": 10,
   "metadata": {},
   "outputs": [
    {
     "data": {
      "application/vnd.microsoft.datawrangler.viewer.v0+json": {
       "columns": [
        {
         "name": "index",
         "rawType": "object",
         "type": "string"
        },
        {
         "name": "CV_return",
         "rawType": "float64",
         "type": "float"
        },
        {
         "name": "CV_volume",
         "rawType": "float64",
         "type": "float"
        }
       ],
       "conversionMethod": "pd.DataFrame",
       "ref": "322bd2cf-92c9-4af6-bc22-51de99387fd9",
       "rows": [
        [
         "count",
         "364.0",
         "364.0"
        ],
        [
         "mean",
         "58.15918156556443",
         "2.087935111738767"
        ],
        [
         "std",
         "200.2341730296369",
         "1.8450285085135314"
        ],
        [
         "min",
         "10.916787943024627",
         "0.48018546103402493"
        ],
        [
         "25%",
         "22.8341960745046",
         "1.258972416597743"
        ],
        [
         "50%",
         "29.492282048153385",
         "1.6432662326791596"
        ],
        [
         "75%",
         "40.08163023781978",
         "2.297825204016992"
        ],
        [
         "max",
         "2975.266071313087",
         "19.605718310865527"
        ]
       ],
       "shape": {
        "columns": 2,
        "rows": 8
       }
      },
      "text/html": [
       "<div>\n",
       "<style scoped>\n",
       "    .dataframe tbody tr th:only-of-type {\n",
       "        vertical-align: middle;\n",
       "    }\n",
       "\n",
       "    .dataframe tbody tr th {\n",
       "        vertical-align: top;\n",
       "    }\n",
       "\n",
       "    .dataframe thead th {\n",
       "        text-align: right;\n",
       "    }\n",
       "</style>\n",
       "<table border=\"1\" class=\"dataframe\">\n",
       "  <thead>\n",
       "    <tr style=\"text-align: right;\">\n",
       "      <th></th>\n",
       "      <th>CV_return</th>\n",
       "      <th>CV_volume</th>\n",
       "    </tr>\n",
       "  </thead>\n",
       "  <tbody>\n",
       "    <tr>\n",
       "      <th>count</th>\n",
       "      <td>364.000000</td>\n",
       "      <td>364.000000</td>\n",
       "    </tr>\n",
       "    <tr>\n",
       "      <th>mean</th>\n",
       "      <td>58.159182</td>\n",
       "      <td>2.087935</td>\n",
       "    </tr>\n",
       "    <tr>\n",
       "      <th>std</th>\n",
       "      <td>200.234173</td>\n",
       "      <td>1.845029</td>\n",
       "    </tr>\n",
       "    <tr>\n",
       "      <th>min</th>\n",
       "      <td>10.916788</td>\n",
       "      <td>0.480185</td>\n",
       "    </tr>\n",
       "    <tr>\n",
       "      <th>25%</th>\n",
       "      <td>22.834196</td>\n",
       "      <td>1.258972</td>\n",
       "    </tr>\n",
       "    <tr>\n",
       "      <th>50%</th>\n",
       "      <td>29.492282</td>\n",
       "      <td>1.643266</td>\n",
       "    </tr>\n",
       "    <tr>\n",
       "      <th>75%</th>\n",
       "      <td>40.081630</td>\n",
       "      <td>2.297825</td>\n",
       "    </tr>\n",
       "    <tr>\n",
       "      <th>max</th>\n",
       "      <td>2975.266071</td>\n",
       "      <td>19.605718</td>\n",
       "    </tr>\n",
       "  </tbody>\n",
       "</table>\n",
       "</div>"
      ],
      "text/plain": [
       "         CV_return   CV_volume\n",
       "count   364.000000  364.000000\n",
       "mean     58.159182    2.087935\n",
       "std     200.234173    1.845029\n",
       "min      10.916788    0.480185\n",
       "25%      22.834196    1.258972\n",
       "50%      29.492282    1.643266\n",
       "75%      40.081630    2.297825\n",
       "max    2975.266071   19.605718"
      ]
     },
     "execution_count": 10,
     "metadata": {},
     "output_type": "execute_result"
    }
   ],
   "source": [
    "df_merge = pd.merge(df_grouped_RT, df_grouped_VL, left_on='Symbol', right_on='symbol', how='inner')\n",
    "threshold = df_merge.describe()[['CV_return', 'CV_volume']]\n",
    "threshold"
   ]
  },
  {
   "cell_type": "code",
   "execution_count": 11,
   "metadata": {},
   "outputs": [],
   "source": [
    "df= df_merge \n",
    "conditions_rt = [df['CV_return'] <= threshold.loc['25%','CV_return'], df['CV_return'] >=threshold.loc['75%','CV_return'] ]\n",
    "choices_rt = ['low', 'high']\n",
    "df['Return_risk'] = np.select(conditions_rt, choices_rt, default='moderate')\n",
    "\n",
    "conditions_vl = [df['CV_volume'] <= threshold.loc['25%','CV_volume'], df['CV_volume'] >=threshold.loc['75%','CV_volume'] ]\n",
    "choices_vl = ['low', 'high']\n",
    "df['Volume_risk'] = np.select(conditions_rt, choices_rt, default='moderate')"
   ]
  },
  {
   "cell_type": "code",
   "execution_count": 12,
   "metadata": {},
   "outputs": [
    {
     "data": {
      "application/vnd.microsoft.datawrangler.viewer.v0+json": {
       "columns": [
        {
         "name": "index",
         "rawType": "int64",
         "type": "integer"
        },
        {
         "name": "Return_risk",
         "rawType": "object",
         "type": "string"
        },
        {
         "name": "count",
         "rawType": "int64",
         "type": "integer"
        }
       ],
       "conversionMethod": "pd.DataFrame",
       "ref": "0304741f-eaf2-4044-8db8-b19c4acbceae",
       "rows": [
        [
         "0",
         "moderate",
         "182"
        ],
        [
         "1",
         "low",
         "91"
        ],
        [
         "2",
         "high",
         "91"
        ]
       ],
       "shape": {
        "columns": 2,
        "rows": 3
       }
      },
      "text/html": [
       "<div>\n",
       "<style scoped>\n",
       "    .dataframe tbody tr th:only-of-type {\n",
       "        vertical-align: middle;\n",
       "    }\n",
       "\n",
       "    .dataframe tbody tr th {\n",
       "        vertical-align: top;\n",
       "    }\n",
       "\n",
       "    .dataframe thead th {\n",
       "        text-align: right;\n",
       "    }\n",
       "</style>\n",
       "<table border=\"1\" class=\"dataframe\">\n",
       "  <thead>\n",
       "    <tr style=\"text-align: right;\">\n",
       "      <th></th>\n",
       "      <th>Return_risk</th>\n",
       "      <th>count</th>\n",
       "    </tr>\n",
       "  </thead>\n",
       "  <tbody>\n",
       "    <tr>\n",
       "      <th>0</th>\n",
       "      <td>moderate</td>\n",
       "      <td>182</td>\n",
       "    </tr>\n",
       "    <tr>\n",
       "      <th>1</th>\n",
       "      <td>low</td>\n",
       "      <td>91</td>\n",
       "    </tr>\n",
       "    <tr>\n",
       "      <th>2</th>\n",
       "      <td>high</td>\n",
       "      <td>91</td>\n",
       "    </tr>\n",
       "  </tbody>\n",
       "</table>\n",
       "</div>"
      ],
      "text/plain": [
       "  Return_risk  count\n",
       "0    moderate    182\n",
       "1         low     91\n",
       "2        high     91"
      ]
     },
     "execution_count": 12,
     "metadata": {},
     "output_type": "execute_result"
    }
   ],
   "source": [
    "df['Return_risk'].value_counts().reset_index()"
   ]
  },
  {
   "cell_type": "code",
   "execution_count": 13,
   "metadata": {},
   "outputs": [
    {
     "data": {
      "image/png": "[encoded data removed]",
      "text/plain": [
       "<Figure size 640x480 with 1 Axes>"
      ]
     },
     "metadata": {},
     "output_type": "display_data"
    }
   ],
   "source": [
    "import matplotlib.pyplot as plt\n",
    "df['Return_risk'].value_counts().reset_index().plot(x='Return_risk', y='count', kind='bar', title='Bar Plot')\n",
    "plt.show()"
   ]
  },
  {
   "cell_type": "code",
   "execution_count": 14,
   "metadata": {},
   "outputs": [
    {
     "data": {
      "application/vnd.microsoft.datawrangler.viewer.v0+json": {
       "columns": [
        {
         "name": "index",
         "rawType": "int64",
         "type": "integer"
        },
        {
         "name": "Symbol",
         "rawType": "object",
         "type": "string"
        },
        {
         "name": "mean_return",
         "rawType": "float64",
         "type": "float"
        },
        {
         "name": "mean_volume",
         "rawType": "float64",
         "type": "float"
        },
        {
         "name": "Return_risk",
         "rawType": "object",
         "type": "string"
        },
        {
         "name": "Volume_risk",
         "rawType": "object",
         "type": "string"
        }
       ],
       "conversionMethod": "pd.DataFrame",
       "ref": "201ab1f1-337d-4d6c-b2dc-5c4919bcd61e",
       "rows": [
        [
         "0",
         "FIR",
         "0.001497841423103044",
         "201438.13748079876",
         "low",
         "low"
        ],
        [
         "1",
         "SIP",
         "0.002681614107788361",
         "70466.47769028871",
         "low",
         "low"
        ],
        [
         "2",
         "TV2",
         "0.0019343009073463353",
         "71745.63666778187",
         "low",
         "low"
        ],
        [
         "3",
         "SBA",
         "0.0011029403161685158",
         "42387.791722296395",
         "low",
         "low"
        ],
        [
         "4",
         "SSB",
         "0.001235827760929623",
         "1592628.9396551724",
         "low",
         "low"
        ],
        [
         "5",
         "PTB",
         "0.0014997580923921943",
         "123080.42389853137",
         "low",
         "low"
        ],
        [
         "6",
         "FPT",
         "0.00107200008231318",
         "1178608.263351135",
         "low",
         "low"
        ],
        [
         "7",
         "HPG",
         "0.0013880012423404095",
         "9002052.943257676",
         "low",
         "low"
        ],
        [
         "8",
         "DSN",
         "0.0008561180604923361",
         "9143.248998664887",
         "low",
         "low"
        ],
        [
         "9",
         "THG",
         "0.001508557305093564",
         "19717.136181575435",
         "low",
         "low"
        ],
        [
         "10",
         "LBM",
         "0.0014911946881844317",
         "8531.216622162883",
         "low",
         "low"
        ],
        [
         "11",
         "CTR",
         "0.0018743053230516218",
         "359521.27349319507",
         "low",
         "low"
        ],
        [
         "12",
         "BAF",
         "0.0016993003401780601",
         "2292058.063583815",
         "low",
         "low"
        ],
        [
         "13",
         "DGC",
         "0.0015158028942265553",
         "783781.4033433348",
         "low",
         "low"
        ],
        [
         "14",
         "CKG",
         "0.0019341380138761701",
         "1160294.8065539112",
         "low",
         "low"
        ],
        [
         "15",
         "CHP",
         "0.0009497211387356065",
         "33463.57803081045",
         "low",
         "low"
        ],
        [
         "16",
         "DHC",
         "0.0013338569505713259",
         "153887.0126835781",
         "low",
         "low"
        ],
        [
         "17",
         "SZC",
         "0.0018366975575354045",
         "921909.730862208",
         "low",
         "low"
        ],
        [
         "18",
         "TMP",
         "0.0013572215872108347",
         "3538.2366488651537",
         "low",
         "low"
        ],
        [
         "19",
         "CTF",
         "0.001383983821161663",
         "227090.71990320628",
         "low",
         "low"
        ],
        [
         "20",
         "LIX",
         "0.0010420810559820647",
         "30542.943925233645",
         "low",
         "low"
        ],
        [
         "21",
         "FMC",
         "0.0013137769851632375",
         "132004.58377837116",
         "low",
         "low"
        ],
        [
         "22",
         "FTS",
         "0.0016286563589387618",
         "558311.1762342135",
         "low",
         "low"
        ],
        [
         "23",
         "KOS",
         "0.0009591760312869597",
         "266771.7213765718",
         "low",
         "low"
        ],
        [
         "24",
         "DHA",
         "0.0011572839054414875",
         "51614.1875834446",
         "low",
         "low"
        ],
        [
         "25",
         "CLC",
         "0.0011203333961500685",
         "8082.439919893191",
         "low",
         "low"
        ],
        [
         "26",
         "TLG",
         "0.001317649959542598",
         "41970.618491321766",
         "low",
         "low"
        ],
        [
         "27",
         "SJD",
         "0.0007788614541994892",
         "59536.91288384513",
         "low",
         "low"
        ],
        [
         "28",
         "CVT",
         "0.001457689868140595",
         "192343.20220588235",
         "low",
         "low"
        ],
        [
         "29",
         "BMP",
         "0.0011261398547821415",
         "133534.44626168226",
         "low",
         "low"
        ],
        [
         "30",
         "SHP",
         "0.0012196172145063045",
         "22361.959866220735",
         "low",
         "low"
        ],
        [
         "31",
         "DPG",
         "0.0017812875113824551",
         "471627.25014376076",
         "low",
         "low"
        ],
        [
         "32",
         "VIB",
         "0.0012409675372969308",
         "1481017.900517539",
         "low",
         "low"
        ],
        [
         "33",
         "REE",
         "0.001054111873056435",
         "850251.6194926569",
         "low",
         "low"
        ],
        [
         "34",
         "MWG",
         "0.0012089926753299214",
         "1263172.2746835444",
         "low",
         "low"
        ],
        [
         "35",
         "VPI",
         "0.0006962251792308995",
         "677397.2392880686",
         "low",
         "low"
        ],
        [
         "36",
         "PNJ",
         "0.001046421138495503",
         "335718.9986648865",
         "low",
         "low"
        ],
        [
         "37",
         "PGC",
         "0.0010708301981305318",
         "117619.06642189586",
         "low",
         "low"
        ],
        [
         "38",
         "DRL",
         "0.0009802655349652244",
         "1685.3636983964518",
         "low",
         "low"
        ],
        [
         "39",
         "BTP",
         "0.0011618945905451457",
         "72236.06275033377",
         "low",
         "low"
        ],
        [
         "40",
         "HDG",
         "0.0013759612136553965",
         "583397.3791722297",
         "low",
         "low"
        ],
        [
         "41",
         "VND",
         "0.0014775025290082009",
         "5252972.089417281",
         "low",
         "low"
        ],
        [
         "42",
         "TRA",
         "0.0009923438254992836",
         "7469.30173564753",
         "low",
         "low"
        ],
        [
         "43",
         "TCL",
         "0.0009607015098944375",
         "51072.06008010681",
         "low",
         "low"
        ],
        [
         "44",
         "NT2",
         "0.0013392416871461077",
         "487104.72222222225",
         "low",
         "low"
        ],
        [
         "45",
         "VSH",
         "0.0009432272172793618",
         "235347.36849132177",
         "low",
         "low"
        ],
        [
         "46",
         "VPG",
         "0.0013480520895176819",
         "729819.6323924732",
         "low",
         "low"
        ],
        [
         "47",
         "VCB",
         "0.0009720713078742904",
         "1062110.0433911881",
         "low",
         "low"
        ],
        [
         "48",
         "TBC",
         "0.0009833033697983482",
         "6384.1241655540725",
         "low",
         "low"
        ],
        [
         "49",
         "KDC",
         "0.0009087310309702759",
         "586825.4339118825",
         "low",
         "low"
        ]
       ],
       "shape": {
        "columns": 5,
        "rows": 364
       }
      },
      "text/html": [
       "<div>\n",
       "<style scoped>\n",
       "    .dataframe tbody tr th:only-of-type {\n",
       "        vertical-align: middle;\n",
       "    }\n",
       "\n",
       "    .dataframe tbody tr th {\n",
       "        vertical-align: top;\n",
       "    }\n",
       "\n",
       "    .dataframe thead th {\n",
       "        text-align: right;\n",
       "    }\n",
       "</style>\n",
       "<table border=\"1\" class=\"dataframe\">\n",
       "  <thead>\n",
       "    <tr style=\"text-align: right;\">\n",
       "      <th></th>\n",
       "      <th>Symbol</th>\n",
       "      <th>mean_return</th>\n",
       "      <th>mean_volume</th>\n",
       "      <th>Return_risk</th>\n",
       "      <th>Volume_risk</th>\n",
       "    </tr>\n",
       "  </thead>\n",
       "  <tbody>\n",
       "    <tr>\n",
       "      <th>0</th>\n",
       "      <td>FIR</td>\n",
       "      <td>0.001498</td>\n",
       "      <td>2.014381e+05</td>\n",
       "      <td>low</td>\n",
       "      <td>low</td>\n",
       "    </tr>\n",
       "    <tr>\n",
       "      <th>1</th>\n",
       "      <td>SIP</td>\n",
       "      <td>0.002682</td>\n",
       "      <td>7.046648e+04</td>\n",
       "      <td>low</td>\n",
       "      <td>low</td>\n",
       "    </tr>\n",
       "    <tr>\n",
       "      <th>2</th>\n",
       "      <td>TV2</td>\n",
       "      <td>0.001934</td>\n",
       "      <td>7.174564e+04</td>\n",
       "      <td>low</td>\n",
       "      <td>low</td>\n",
       "    </tr>\n",
       "    <tr>\n",
       "      <th>3</th>\n",
       "      <td>SBA</td>\n",
       "      <td>0.001103</td>\n",
       "      <td>4.238779e+04</td>\n",
       "      <td>low</td>\n",
       "      <td>low</td>\n",
       "    </tr>\n",
       "    <tr>\n",
       "      <th>4</th>\n",
       "      <td>SSB</td>\n",
       "      <td>0.001236</td>\n",
       "      <td>1.592629e+06</td>\n",
       "      <td>low</td>\n",
       "      <td>low</td>\n",
       "    </tr>\n",
       "    <tr>\n",
       "      <th>...</th>\n",
       "      <td>...</td>\n",
       "      <td>...</td>\n",
       "      <td>...</td>\n",
       "      <td>...</td>\n",
       "      <td>...</td>\n",
       "    </tr>\n",
       "    <tr>\n",
       "      <th>359</th>\n",
       "      <td>VRE</td>\n",
       "      <td>0.000075</td>\n",
       "      <td>3.531141e+06</td>\n",
       "      <td>high</td>\n",
       "      <td>high</td>\n",
       "    </tr>\n",
       "    <tr>\n",
       "      <th>360</th>\n",
       "      <td>LEC</td>\n",
       "      <td>0.000100</td>\n",
       "      <td>2.204318e+03</td>\n",
       "      <td>high</td>\n",
       "      <td>high</td>\n",
       "    </tr>\n",
       "    <tr>\n",
       "      <th>361</th>\n",
       "      <td>SPM</td>\n",
       "      <td>0.000030</td>\n",
       "      <td>4.229613e+03</td>\n",
       "      <td>high</td>\n",
       "      <td>high</td>\n",
       "    </tr>\n",
       "    <tr>\n",
       "      <th>362</th>\n",
       "      <td>TLD</td>\n",
       "      <td>0.000014</td>\n",
       "      <td>4.783530e+05</td>\n",
       "      <td>high</td>\n",
       "      <td>high</td>\n",
       "    </tr>\n",
       "    <tr>\n",
       "      <th>363</th>\n",
       "      <td>DAH</td>\n",
       "      <td>0.000011</td>\n",
       "      <td>7.532770e+05</td>\n",
       "      <td>high</td>\n",
       "      <td>high</td>\n",
       "    </tr>\n",
       "  </tbody>\n",
       "</table>\n",
       "<p>364 rows × 5 columns</p>\n",
       "</div>"
      ],
      "text/plain": [
       "    Symbol  mean_return   mean_volume Return_risk Volume_risk\n",
       "0      FIR     0.001498  2.014381e+05         low         low\n",
       "1      SIP     0.002682  7.046648e+04         low         low\n",
       "2      TV2     0.001934  7.174564e+04         low         low\n",
       "3      SBA     0.001103  4.238779e+04         low         low\n",
       "4      SSB     0.001236  1.592629e+06         low         low\n",
       "..     ...          ...           ...         ...         ...\n",
       "359    VRE     0.000075  3.531141e+06        high        high\n",
       "360    LEC     0.000100  2.204318e+03        high        high\n",
       "361    SPM     0.000030  4.229613e+03        high        high\n",
       "362    TLD     0.000014  4.783530e+05        high        high\n",
       "363    DAH     0.000011  7.532770e+05        high        high\n",
       "\n",
       "[364 rows x 5 columns]"
      ]
     },
     "execution_count": 14,
     "metadata": {},
     "output_type": "execute_result"
    }
   ],
   "source": [
    "df[['Symbol','mean_return','mean_volume','Return_risk','Volume_risk']]"
   ]
  },
  {
   "cell_type": "code",
   "execution_count": 15,
   "metadata": {},
   "outputs": [
    {
     "name": "stdout",
     "output_type": "stream",
     "text": [
      "Connection successful!\n"
     ]
    },
    {
     "data": {
      "application/vnd.microsoft.datawrangler.viewer.v0+json": {
       "columns": [
        {
         "name": "index",
         "rawType": "int64",
         "type": "integer"
        },
        {
         "name": "symbol",
         "rawType": "object",
         "type": "string"
        },
        {
         "name": "industry",
         "rawType": "object",
         "type": "string"
        },
        {
         "name": "market_cap_percent",
         "rawType": "float64",
         "type": "float"
        }
       ],
       "conversionMethod": "pd.DataFrame",
       "ref": "965aa1fb-5489-4d02-933d-6c3307746203",
       "rows": [
        [
         "36",
         "VCB",
         "Ngân hàng",
         "9.679286166306069"
        ],
        [
         "337",
         "BID",
         "Ngân hàng",
         "4.9182235156301415"
        ],
        [
         "257",
         "FPT",
         "Công nghệ Thông tin",
         "4.2600887876882165"
        ],
        [
         "304",
         "CTG",
         "Ngân hàng",
         "3.8545412439567595"
        ],
        [
         "81",
         "TCB",
         "Ngân hàng",
         "3.3069646621377937"
        ],
        [
         "226",
         "HPG",
         "Tài nguyên Cơ bản",
         "3.2369250959667393"
        ],
        [
         "27",
         "VHM",
         "Bất động sản",
         "3.1198491926394905"
        ],
        [
         "254",
         "GAS",
         "Điện, nước & xăng dầu khí đốt",
         "3.029496122333617"
        ],
        [
         "25",
         "VIC",
         "Bất động sản",
         "2.944294726363803"
        ],
        [
         "12",
         "VPB",
         "Ngân hàng",
         "2.892641165835219"
        ],
        [
         "182",
         "MBB",
         "Ngân hàng",
         "2.5296119354553106"
        ],
        [
         "15",
         "VNM",
         "Thực phẩm và đồ uống",
         "2.516182604079761"
        ],
        [
         "245",
         "GVR",
         "Hóa chất",
         "2.305288576632628"
        ],
        [
         "361",
         "ACB",
         "Ngân hàng",
         "2.188331450735749"
        ],
        [
         "174",
         "MSN",
         "Thực phẩm và đồ uống",
         "1.9119843179900002"
        ],
        [
         "184",
         "LPB",
         "Ngân hàng",
         "1.7727009279691743"
        ],
        [
         "236",
         "HDB",
         "Ngân hàng",
         "1.6996765447889106"
        ],
        [
         "173",
         "MWG",
         "Bán lẻ",
         "1.6937262797519435"
        ],
        [
         "341",
         "BCM",
         "Bất động sản",
         "1.3934557964264185"
        ],
        [
         "119",
         "SAB",
         "Thực phẩm và đồ uống",
         "1.3517327316770176"
        ],
        [
         "330",
         "BSR",
         "Dầu khí",
         "1.3423729562287294"
        ],
        [
         "89",
         "STB",
         "Ngân hàng",
         "1.3209622562622976"
        ],
        [
         "211",
         "HVN",
         "Du lịch và Giải trí",
         "1.2047233018149102"
        ],
        [
         "26",
         "VIB",
         "Ngân hàng",
         "1.114443150027441"
        ],
        [
         "21",
         "VJC",
         "Du lịch và Giải trí",
         "1.028454936659169"
        ],
        [
         "91",
         "SSI",
         "Dịch vụ tài chính",
         "0.9714796535309036"
        ],
        [
         "136",
         "PLX",
         "Dầu khí",
         "0.921379599249884"
        ],
        [
         "92",
         "SSB",
         "Ngân hàng",
         "0.901725779836253"
        ],
        [
         "291",
         "DGC",
         "Hóa chất",
         "0.8409305347926804"
        ],
        [
         "51",
         "TPB",
         "Ngân hàng",
         "0.8353215056348077"
        ],
        [
         "103",
         "SHB",
         "Ngân hàng",
         "0.7913448978719652"
        ],
        [
         "6",
         "VRE",
         "Bất động sản",
         "0.7584080398603327"
        ],
        [
         "327",
         "BVH",
         "Bảo hiểm",
         "0.7146510421665903"
        ],
        [
         "199",
         "KDH",
         "Bất động sản",
         "0.6931191911201015"
        ],
        [
         "268",
         "EIB",
         "Ngân hàng",
         "0.6848993371978036"
        ],
        [
         "135",
         "PNJ",
         "Hàng cá nhân & Gia dụng",
         "0.6246900987891146"
        ],
        [
         "122",
         "REE",
         "Điện, nước & xăng dầu khí đốt",
         "0.6072916263626887"
        ],
        [
         "176",
         "MSB",
         "Ngân hàng",
         "0.5751827923080914"
        ],
        [
         "155",
         "OCB",
         "Ngân hàng",
         "0.53378862045941"
        ],
        [
         "134",
         "POW",
         "Điện, nước & xăng dầu khí đốt",
         "0.5336496195337019"
        ],
        [
         "248",
         "GMD",
         "Hàng & Dịch vụ Công nghiệp",
         "0.5202478035053308"
        ],
        [
         "256",
         "FRT",
         "Bán lẻ",
         "0.48002260665481655"
        ],
        [
         "33",
         "VCI",
         "Dịch vụ tài chính",
         "0.4494472642336176"
        ],
        [
         "142",
         "PGV",
         "Điện, nước & xăng dầu khí đốt",
         "0.4320208586976675"
        ],
        [
         "172",
         "NAB",
         "Ngân hàng",
         "0.4005860462083715"
        ],
        [
         "201",
         "KBC",
         "Bất động sản",
         "0.3964701376500097"
        ],
        [
         "237",
         "HCM",
         "Dịch vụ tài chính",
         "0.39542937771336983"
        ],
        [
         "29",
         "VGC",
         "Xây dựng và Vật liệu",
         "0.38273828936906973"
        ],
        [
         "157",
         "NVL",
         "Bất động sản",
         "0.37956604898052465"
        ],
        [
         "19",
         "VND",
         "Dịch vụ tài chính",
         "0.36423141748450494"
        ]
       ],
       "shape": {
        "columns": 3,
        "rows": 368
       }
      },
      "text/html": [
       "<div>\n",
       "<style scoped>\n",
       "    .dataframe tbody tr th:only-of-type {\n",
       "        vertical-align: middle;\n",
       "    }\n",
       "\n",
       "    .dataframe tbody tr th {\n",
       "        vertical-align: top;\n",
       "    }\n",
       "\n",
       "    .dataframe thead th {\n",
       "        text-align: right;\n",
       "    }\n",
       "</style>\n",
       "<table border=\"1\" class=\"dataframe\">\n",
       "  <thead>\n",
       "    <tr style=\"text-align: right;\">\n",
       "      <th></th>\n",
       "      <th>symbol</th>\n",
       "      <th>industry</th>\n",
       "      <th>market_cap_percent</th>\n",
       "    </tr>\n",
       "  </thead>\n",
       "  <tbody>\n",
       "    <tr>\n",
       "      <th>36</th>\n",
       "      <td>VCB</td>\n",
       "      <td>Ngân hàng</td>\n",
       "      <td>9.679286</td>\n",
       "    </tr>\n",
       "    <tr>\n",
       "      <th>337</th>\n",
       "      <td>BID</td>\n",
       "      <td>Ngân hàng</td>\n",
       "      <td>4.918224</td>\n",
       "    </tr>\n",
       "    <tr>\n",
       "      <th>257</th>\n",
       "      <td>FPT</td>\n",
       "      <td>Công nghệ Thông tin</td>\n",
       "      <td>4.260089</td>\n",
       "    </tr>\n",
       "    <tr>\n",
       "      <th>304</th>\n",
       "      <td>CTG</td>\n",
       "      <td>Ngân hàng</td>\n",
       "      <td>3.854541</td>\n",
       "    </tr>\n",
       "    <tr>\n",
       "      <th>81</th>\n",
       "      <td>TCB</td>\n",
       "      <td>Ngân hàng</td>\n",
       "      <td>3.306965</td>\n",
       "    </tr>\n",
       "    <tr>\n",
       "      <th>...</th>\n",
       "      <td>...</td>\n",
       "      <td>...</td>\n",
       "      <td>...</td>\n",
       "    </tr>\n",
       "    <tr>\n",
       "      <th>240</th>\n",
       "      <td>HAS</td>\n",
       "      <td>Xây dựng và Vật liệu</td>\n",
       "      <td>0.001185</td>\n",
       "    </tr>\n",
       "    <tr>\n",
       "      <th>353</th>\n",
       "      <td>AGM</td>\n",
       "      <td>Thực phẩm và đồ uống</td>\n",
       "      <td>0.001147</td>\n",
       "    </tr>\n",
       "    <tr>\n",
       "      <th>214</th>\n",
       "      <td>HU1</td>\n",
       "      <td>Xây dựng và Vật liệu</td>\n",
       "      <td>0.001044</td>\n",
       "    </tr>\n",
       "    <tr>\n",
       "      <th>269</th>\n",
       "      <td>DXV</td>\n",
       "      <td>Xây dựng và Vật liệu</td>\n",
       "      <td>0.000714</td>\n",
       "    </tr>\n",
       "    <tr>\n",
       "      <th>74</th>\n",
       "      <td>TCR</td>\n",
       "      <td>Xây dựng và Vật liệu</td>\n",
       "      <td>0.000681</td>\n",
       "    </tr>\n",
       "  </tbody>\n",
       "</table>\n",
       "<p>368 rows × 3 columns</p>\n",
       "</div>"
      ],
      "text/plain": [
       "    symbol              industry  market_cap_percent\n",
       "36     VCB             Ngân hàng            9.679286\n",
       "337    BID             Ngân hàng            4.918224\n",
       "257    FPT   Công nghệ Thông tin            4.260089\n",
       "304    CTG             Ngân hàng            3.854541\n",
       "81     TCB             Ngân hàng            3.306965\n",
       "..     ...                   ...                 ...\n",
       "240    HAS  Xây dựng và Vật liệu            0.001185\n",
       "353    AGM  Thực phẩm và đồ uống            0.001147\n",
       "214    HU1  Xây dựng và Vật liệu            0.001044\n",
       "269    DXV  Xây dựng và Vật liệu            0.000714\n",
       "74     TCR  Xây dựng và Vật liệu            0.000681\n",
       "\n",
       "[368 rows x 3 columns]"
      ]
     },
     "execution_count": 15,
     "metadata": {},
     "output_type": "execute_result"
    }
   ],
   "source": [
    "market_cap_weighted_return = get_data('SELECT * FROM market_cap_weighted_return')\n",
    "market_cap_weighted_return.sort_values(by='market_cap_percent', ascending=False, inplace=False)"
   ]
  },
  {
   "cell_type": "code",
   "execution_count": 16,
   "metadata": {},
   "outputs": [],
   "source": [
    "df_merge = pd.merge(df, market_cap_weighted_return, left_on='Symbol', right_on='symbol', how='inner')\n",
    "df_merge= df_merge[['Symbol','industry','mean_return','mean_volume','Return_risk','Volume_risk','market_cap_percent']].sort_values(by='market_cap_percent', ascending=False, inplace=False)"
   ]
  },
  {
   "cell_type": "code",
   "execution_count": 17,
   "metadata": {},
   "outputs": [
    {
     "data": {
      "application/vnd.microsoft.datawrangler.viewer.v0+json": {
       "columns": [
        {
         "name": "index",
         "rawType": "int64",
         "type": "integer"
        },
        {
         "name": "Symbol",
         "rawType": "object",
         "type": "string"
        },
        {
         "name": "industry",
         "rawType": "object",
         "type": "string"
        },
        {
         "name": "mean_return",
         "rawType": "float64",
         "type": "float"
        },
        {
         "name": "mean_volume",
         "rawType": "float64",
         "type": "float"
        },
        {
         "name": "Return_risk",
         "rawType": "object",
         "type": "string"
        },
        {
         "name": "Volume_risk",
         "rawType": "object",
         "type": "string"
        },
        {
         "name": "market_cap_percent",
         "rawType": "float64",
         "type": "float"
        }
       ],
       "conversionMethod": "pd.DataFrame",
       "ref": "d91db42f-1b5d-4abe-b5da-00c698309185",
       "rows": [
        [
         "47",
         "VCB",
         "Ngân hàng",
         "0.0009720713078742904",
         "1062110.0433911881",
         "low",
         "low",
         "9.679286166306069"
        ],
        [
         "143",
         "BID",
         "Ngân hàng",
         "0.0008539956335650592",
         "1850575.2846774193",
         "moderate",
         "moderate",
         "4.9182235156301415"
        ],
        [
         "6",
         "FPT",
         "Công nghệ Thông tin",
         "0.00107200008231318",
         "1178608.263351135",
         "low",
         "low",
         "4.2600887876882165"
        ],
        [
         "184",
         "CTG",
         "Ngân hàng",
         "0.0006960724265148191",
         "3905219.8998664888",
         "moderate",
         "moderate",
         "3.8545412439567595"
        ],
        [
         "322",
         "TCB",
         "Ngân hàng",
         "0.00018117737123319675",
         "6491993.396711937",
         "high",
         "high",
         "3.3069646621377937"
        ],
        [
         "7",
         "HPG",
         "Tài nguyên Cơ bản",
         "0.0013880012423404095",
         "9002052.943257676",
         "low",
         "low",
         "3.2369250959667393"
        ],
        [
         "296",
         "VHM",
         "Bất động sản",
         "0.0008992514100553831",
         "1457840.0753768843",
         "high",
         "high",
         "3.1198491926394905"
        ],
        [
         "191",
         "GAS",
         "Điện, nước & xăng dầu khí đốt",
         "0.0007003452931864244",
         "585911.1810671256",
         "moderate",
         "moderate",
         "3.029496122333617"
        ],
        [
         "227",
         "VIC",
         "Bất động sản",
         "0.0004936807662694548",
         "1402306.7787049399",
         "moderate",
         "moderate",
         "2.944294726363803"
        ],
        [
         "174",
         "VPB",
         "Ngân hàng",
         "0.0007741264659044811",
         "8840493.105263159",
         "moderate",
         "moderate",
         "2.892641165835219"
        ],
        [
         "61",
         "MBB",
         "Ngân hàng",
         "0.0008869191124929604",
         "5468920.065420561",
         "low",
         "low",
         "2.5296119354553106"
        ],
        [
         "101",
         "VNM",
         "Thực phẩm và đồ uống",
         "0.0006253221531272355",
         "1164635.952269693",
         "moderate",
         "moderate",
         "2.516182604079761"
        ],
        [
         "183",
         "GVR",
         "Hóa chất",
         "0.001015721922270973",
         "2136883.4067914067",
         "moderate",
         "moderate",
         "2.305288576632628"
        ],
        [
         "95",
         "ACB",
         "Ngân hàng",
         "0.0007635621387493124",
         "2821750.3567368775",
         "moderate",
         "moderate",
         "2.188331450735749"
        ],
        [
         "294",
         "MSN",
         "Thực phẩm và đồ uống",
         "0.000337330662444956",
         "766893.2937249666",
         "high",
         "high",
         "1.9119843179900002"
        ],
        [
         "125",
         "LPB",
         "Ngân hàng",
         "0.0010301119944450864",
         "5678400.898840206",
         "moderate",
         "moderate",
         "1.7727009279691743"
        ],
        [
         "236",
         "HDB",
         "Ngân hàng",
         "0.0005685664169486177",
         "3004401.4602538412",
         "moderate",
         "moderate",
         "1.6996765447889106"
        ],
        [
         "34",
         "MWG",
         "Bán lẻ",
         "0.0012089926753299214",
         "1263172.2746835444",
         "low",
         "low",
         "1.6937262797519435"
        ],
        [
         "140",
         "BCM",
         "Bất động sản",
         "0.001088820327652225",
         "144801.58276333788",
         "moderate",
         "moderate",
         "1.3934557964264185"
        ],
        [
         "313",
         "SAB",
         "Thực phẩm và đồ uống",
         "0.00022490358451925625",
         "125730.79649519503",
         "high",
         "high",
         "1.3517327316770176"
        ],
        [
         "244",
         "STB",
         "Ngân hàng",
         "0.0005968396384050692",
         "8251975.523364486",
         "moderate",
         "moderate",
         "1.3209622562622976"
        ],
        [
         "32",
         "VIB",
         "Ngân hàng",
         "0.0012409675372969308",
         "1481017.900517539",
         "low",
         "low",
         "1.114443150027441"
        ],
        [
         "220",
         "VJC",
         "Du lịch và Giải trí",
         "0.0004807575065577373",
         "628032.8618075802",
         "moderate",
         "moderate",
         "1.028454936659169"
        ],
        [
         "92",
         "SSI",
         "Dịch vụ tài chính",
         "0.0010210563014877202",
         "6458817.332777036",
         "moderate",
         "moderate",
         "0.9714796535309036"
        ],
        [
         "320",
         "PLX",
         "Dầu khí",
         "0.0001902386094870374",
         "1104395.979737783",
         "high",
         "high",
         "0.921379599249884"
        ],
        [
         "4",
         "SSB",
         "Ngân hàng",
         "0.001235827760929623",
         "1592628.9396551724",
         "low",
         "low",
         "0.901725779836253"
        ],
        [
         "13",
         "DGC",
         "Hóa chất",
         "0.0015158028942265553",
         "783781.4033433348",
         "low",
         "low",
         "0.8409305347926804"
        ],
        [
         "218",
         "TPB",
         "Ngân hàng",
         "0.0006166170397260901",
         "2904928.74859944",
         "moderate",
         "moderate",
         "0.8353215056348077"
        ],
        [
         "161",
         "SHB",
         "Ngân hàng",
         "0.0009243748488648473",
         "8583247.2532576",
         "moderate",
         "moderate",
         "0.7913448978719652"
        ],
        [
         "334",
         "VRE",
         "Bất động sản",
         "7.517805206449383e-05",
         "3531141.3928571427",
         "high",
         "high",
         "0.7584080398603327"
        ],
        [
         "299",
         "BVH",
         "Bảo hiểm",
         "0.0003746565454030127",
         "520914.68825100135",
         "high",
         "high",
         "0.7146510421665903"
        ],
        [
         "113",
         "KDH",
         "Bất động sản",
         "0.0008431323585978438",
         "700175.1255006676",
         "moderate",
         "moderate",
         "0.6931191911201015"
        ],
        [
         "261",
         "EIB",
         "Ngân hàng",
         "0.0004960442652870659",
         "1118970.0480640854",
         "high",
         "high",
         "0.6848993371978036"
        ],
        [
         "36",
         "PNJ",
         "Hàng cá nhân & Gia dụng",
         "0.001046421138495503",
         "335718.9986648865",
         "low",
         "low",
         "0.6246900987891146"
        ],
        [
         "33",
         "REE",
         "Điện, nước & xăng dầu khí đốt",
         "0.001054111873056435",
         "850251.6194926569",
         "low",
         "low",
         "0.6072916263626887"
        ],
        [
         "238",
         "MSB",
         "Ngân hàng",
         "0.0005825576712408378",
         "5423822.961589404",
         "moderate",
         "moderate",
         "0.5751827923080914"
        ],
        [
         "213",
         "OCB",
         "Ngân hàng",
         "0.0006624687046669177",
         "2520470.819178082",
         "moderate",
         "moderate",
         "0.53378862045941"
        ],
        [
         "69",
         "GMD",
         "Hàng & Dịch vụ Công nghiệp",
         "0.0010541376954611855",
         "888466.2733644859",
         "low",
         "low",
         "0.5202478035053308"
        ],
        [
         "147",
         "FRT",
         "Bán lẻ",
         "0.0011143075215184596",
         "893870.6228932585",
         "moderate",
         "moderate",
         "0.48002260665481655"
        ],
        [
         "124",
         "VCI",
         "Dịch vụ tài chính",
         "0.001151848757404389",
         "2277922.9218461537",
         "moderate",
         "moderate",
         "0.4494472642336176"
        ],
        [
         "263",
         "PGV",
         "Điện, nước & xăng dầu khí đốt",
         "0.0007729626798585952",
         "22832.78695350451",
         "high",
         "high",
         "0.4320208586976675"
        ],
        [
         "119",
         "NAB",
         "Ngân hàng",
         "0.000976479495465757",
         "267712.89851485146",
         "moderate",
         "moderate",
         "0.4005860462083715"
        ],
        [
         "194",
         "KBC",
         "Bất động sản",
         "0.0008557627651141407",
         "3587476.755340454",
         "moderate",
         "moderate",
         "0.3964701376500097"
        ],
        [
         "72",
         "HCM",
         "Dịch vụ tài chính",
         "0.0012469149581244132",
         "1931903.6872496663",
         "low",
         "low",
         "0.39542937771336983"
        ],
        [
         "55",
         "VGC",
         "Xây dựng và Vật liệu",
         "0.001415909742852951",
         "842218.8509286413",
         "low",
         "low",
         "0.38273828936906973"
        ],
        [
         "41",
         "VND",
         "Dịch vụ tài chính",
         "0.0014775025290082009",
         "5252972.089417281",
         "low",
         "low",
         "0.36423141748450494"
        ],
        [
         "35",
         "VPI",
         "Bất động sản",
         "0.0006962251792308995",
         "677397.2392880686",
         "low",
         "low",
         "0.3633772833809058"
        ],
        [
         "122",
         "DCM",
         "Hóa chất",
         "0.0009304137324081949",
         "2296330.6207839563",
         "moderate",
         "moderate",
         "0.3578825691919897"
        ],
        [
         "141",
         "PDR",
         "Bất động sản",
         "0.000918415841280104",
         "2109959.5994659546",
         "moderate",
         "moderate",
         "0.3431949946008197"
        ],
        [
         "1",
         "SIP",
         "Bất động sản",
         "0.002681614107788361",
         "70466.47769028871",
         "low",
         "low",
         "0.33216948674773533"
        ]
       ],
       "shape": {
        "columns": 7,
        "rows": 338
       }
      },
      "text/html": [
       "<div>\n",
       "<style scoped>\n",
       "    .dataframe tbody tr th:only-of-type {\n",
       "        vertical-align: middle;\n",
       "    }\n",
       "\n",
       "    .dataframe tbody tr th {\n",
       "        vertical-align: top;\n",
       "    }\n",
       "\n",
       "    .dataframe thead th {\n",
       "        text-align: right;\n",
       "    }\n",
       "</style>\n",
       "<table border=\"1\" class=\"dataframe\">\n",
       "  <thead>\n",
       "    <tr style=\"text-align: right;\">\n",
       "      <th></th>\n",
       "      <th>Symbol</th>\n",
       "      <th>industry</th>\n",
       "      <th>mean_return</th>\n",
       "      <th>mean_volume</th>\n",
       "      <th>Return_risk</th>\n",
       "      <th>Volume_risk</th>\n",
       "      <th>market_cap_percent</th>\n",
       "    </tr>\n",
       "  </thead>\n",
       "  <tbody>\n",
       "    <tr>\n",
       "      <th>47</th>\n",
       "      <td>VCB</td>\n",
       "      <td>Ngân hàng</td>\n",
       "      <td>0.000972</td>\n",
       "      <td>1.062110e+06</td>\n",
       "      <td>low</td>\n",
       "      <td>low</td>\n",
       "      <td>9.679286</td>\n",
       "    </tr>\n",
       "    <tr>\n",
       "      <th>143</th>\n",
       "      <td>BID</td>\n",
       "      <td>Ngân hàng</td>\n",
       "      <td>0.000854</td>\n",
       "      <td>1.850575e+06</td>\n",
       "      <td>moderate</td>\n",
       "      <td>moderate</td>\n",
       "      <td>4.918224</td>\n",
       "    </tr>\n",
       "    <tr>\n",
       "      <th>6</th>\n",
       "      <td>FPT</td>\n",
       "      <td>Công nghệ Thông tin</td>\n",
       "      <td>0.001072</td>\n",
       "      <td>1.178608e+06</td>\n",
       "      <td>low</td>\n",
       "      <td>low</td>\n",
       "      <td>4.260089</td>\n",
       "    </tr>\n",
       "    <tr>\n",
       "      <th>184</th>\n",
       "      <td>CTG</td>\n",
       "      <td>Ngân hàng</td>\n",
       "      <td>0.000696</td>\n",
       "      <td>3.905220e+06</td>\n",
       "      <td>moderate</td>\n",
       "      <td>moderate</td>\n",
       "      <td>3.854541</td>\n",
       "    </tr>\n",
       "    <tr>\n",
       "      <th>322</th>\n",
       "      <td>TCB</td>\n",
       "      <td>Ngân hàng</td>\n",
       "      <td>0.000181</td>\n",
       "      <td>6.491993e+06</td>\n",
       "      <td>high</td>\n",
       "      <td>high</td>\n",
       "      <td>3.306965</td>\n",
       "    </tr>\n",
       "    <tr>\n",
       "      <th>...</th>\n",
       "      <td>...</td>\n",
       "      <td>...</td>\n",
       "      <td>...</td>\n",
       "      <td>...</td>\n",
       "      <td>...</td>\n",
       "      <td>...</td>\n",
       "      <td>...</td>\n",
       "    </tr>\n",
       "    <tr>\n",
       "      <th>262</th>\n",
       "      <td>HAS</td>\n",
       "      <td>Xây dựng và Vật liệu</td>\n",
       "      <td>0.000730</td>\n",
       "      <td>8.115067e+03</td>\n",
       "      <td>high</td>\n",
       "      <td>high</td>\n",
       "      <td>0.001185</td>\n",
       "    </tr>\n",
       "    <tr>\n",
       "      <th>323</th>\n",
       "      <td>AGM</td>\n",
       "      <td>Thực phẩm và đồ uống</td>\n",
       "      <td>0.000227</td>\n",
       "      <td>5.105205e+04</td>\n",
       "      <td>high</td>\n",
       "      <td>high</td>\n",
       "      <td>0.001147</td>\n",
       "    </tr>\n",
       "    <tr>\n",
       "      <th>239</th>\n",
       "      <td>HU1</td>\n",
       "      <td>Xây dựng và Vật liệu</td>\n",
       "      <td>0.000903</td>\n",
       "      <td>7.353697e+03</td>\n",
       "      <td>moderate</td>\n",
       "      <td>moderate</td>\n",
       "      <td>0.001044</td>\n",
       "    </tr>\n",
       "    <tr>\n",
       "      <th>280</th>\n",
       "      <td>DXV</td>\n",
       "      <td>Xây dựng và Vật liệu</td>\n",
       "      <td>0.000662</td>\n",
       "      <td>1.573200e+04</td>\n",
       "      <td>high</td>\n",
       "      <td>high</td>\n",
       "      <td>0.000714</td>\n",
       "    </tr>\n",
       "    <tr>\n",
       "      <th>308</th>\n",
       "      <td>TCR</td>\n",
       "      <td>Xây dựng và Vật liệu</td>\n",
       "      <td>0.000420</td>\n",
       "      <td>1.407027e+04</td>\n",
       "      <td>high</td>\n",
       "      <td>high</td>\n",
       "      <td>0.000681</td>\n",
       "    </tr>\n",
       "  </tbody>\n",
       "</table>\n",
       "<p>338 rows × 7 columns</p>\n",
       "</div>"
      ],
      "text/plain": [
       "    Symbol              industry  mean_return   mean_volume Return_risk  \\\n",
       "47     VCB             Ngân hàng     0.000972  1.062110e+06         low   \n",
       "143    BID             Ngân hàng     0.000854  1.850575e+06    moderate   \n",
       "6      FPT   Công nghệ Thông tin     0.001072  1.178608e+06         low   \n",
       "184    CTG             Ngân hàng     0.000696  3.905220e+06    moderate   \n",
       "322    TCB             Ngân hàng     0.000181  6.491993e+06        high   \n",
       "..     ...                   ...          ...           ...         ...   \n",
       "262    HAS  Xây dựng và Vật liệu     0.000730  8.115067e+03        high   \n",
       "323    AGM  Thực phẩm và đồ uống     0.000227  5.105205e+04        high   \n",
       "239    HU1  Xây dựng và Vật liệu     0.000903  7.353697e+03    moderate   \n",
       "280    DXV  Xây dựng và Vật liệu     0.000662  1.573200e+04        high   \n",
       "308    TCR  Xây dựng và Vật liệu     0.000420  1.407027e+04        high   \n",
       "\n",
       "    Volume_risk  market_cap_percent  \n",
       "47          low            9.679286  \n",
       "143    moderate            4.918224  \n",
       "6           low            4.260089  \n",
       "184    moderate            3.854541  \n",
       "322        high            3.306965  \n",
       "..          ...                 ...  \n",
       "262        high            0.001185  \n",
       "323        high            0.001147  \n",
       "239    moderate            0.001044  \n",
       "280        high            0.000714  \n",
       "308        high            0.000681  \n",
       "\n",
       "[338 rows x 7 columns]"
      ]
     },
     "execution_count": 17,
     "metadata": {},
     "output_type": "execute_result"
    }
   ],
   "source": [
    "df_merge"
   ]
  },
  {
   "cell_type": "code",
   "execution_count": 18,
   "metadata": {},
   "outputs": [
    {
     "data": {
      "image/png": "[encoded data removed]",
      "text/plain": [
       "<Figure size 1500x1000 with 1 Axes>"
      ]
     },
     "metadata": {},
     "output_type": "display_data"
    }
   ],
   "source": [
    "import seaborn as sns\n",
    "data = df_merge\n",
    "plt.figure(figsize=(15, 10))\n",
    "sns.countplot(data, x=\"industry\", hue=\"Return_risk\",stat=\"percent\")\n",
    "plt.title('Count of Symbols by Industry and Return Risk')\n",
    "plt.xlabel('Industry')\n",
    "plt.ylabel('Count of Symbols')\n",
    "plt.legend(title='Return Risk')\n",
    "plt.xticks(rotation=90)\n",
    "plt.tight_layout()\n",
    "plt.show()\n"
   ]
  },
  {
   "cell_type": "code",
   "execution_count": 19,
   "metadata": {},
   "outputs": [
    {
     "data": {
      "text/plain": [
       "<Axes: title={'center': 'Stacked Bar Plot'}, xlabel='industry'>"
      ]
     },
     "execution_count": 19,
     "metadata": {},
     "output_type": "execute_result"
    },
    {
     "data": {
      "image/png": "[encoded data removed]",
      "text/plain": [
       "<Figure size 2000x600 with 1 Axes>"
      ]
     },
     "metadata": {},
     "output_type": "display_data"
    }
   ],
   "source": [
    "crossbar = pd.crosstab(df_merge['industry'], df_merge['Return_risk'],margins=True)\n",
    "crossbar['high'] = crossbar['high'] / crossbar['All'] * 100\n",
    "crossbar['moderate'] = crossbar['moderate'] / crossbar['All'] * 100\n",
    "crossbar['low'] = crossbar['low'] / crossbar['All'] * 100\n",
    "crossbar= crossbar[['high', 'moderate', 'low']]\n",
    "crossbar.plot(kind='bar', stacked=True, title='Stacked Bar Plot',figsize=(20, 6))\n"
   ]
  },
  {
   "cell_type": "code",
   "execution_count": null,
   "metadata": {},
   "outputs": [
    {
     "name": "stdout",
     "output_type": "stream",
     "text": [
      "Chi-Square Statistic: 56.08610280413603\n",
      "Degrees of Freedom: 32\n",
      "P-Value: 0.005310856746813941\n",
      "There is a significant relationship between rate of return and industry.\n"
     ]
    }
   ],
   "source": [
    "import pandas as pd\n",
    "from scipy.stats import chi2_contingency\n",
    "\n",
    "# Prepare the contingency table\n",
    "contingency_table = pd.crosstab(df_merge['industry'], df_merge['Return_risk'])\n",
    "\n",
    "# Perform the Chi-Square test\n",
    "chi2, p, dof, expected = chi2_contingency(contingency_table)\n",
    "\n",
    "# Display the results\n",
    "print(\"Chi-Square Statistic:\", chi2)\n",
    "print(\"Degrees of Freedom:\", dof)\n",
    "print(\"P-Value:\", p)\n",
    "\n",
    "# Interpret the results\n",
    "if p < 0.05:\n",
    "    print(\"There is a significant relationship between rate of return and industry.\")\n",
    "else:\n",
    "    print(\"There is no significant relationship between rate of return and industry.\")"
   ]
  },
  {
   "cell_type": "code",
   "execution_count": 21,
   "metadata": {},
   "outputs": [
    {
     "data": {
      "application/vnd.microsoft.datawrangler.viewer.v0+json": {
       "columns": [
        {
         "name": "industry",
         "rawType": "object",
         "type": "string"
        },
        {
         "name": "high",
         "rawType": "int64",
         "type": "integer"
        },
        {
         "name": "low",
         "rawType": "int64",
         "type": "integer"
        },
        {
         "name": "moderate",
         "rawType": "int64",
         "type": "integer"
        }
       ],
       "conversionMethod": "pd.DataFrame",
       "ref": "12c86624-d79c-4a6d-a9e5-8d05d46ba1c4",
       "rows": [
        [
         "Bán lẻ",
         "3",
         "2",
         "3"
        ],
        [
         "Bảo hiểm",
         "1",
         "1",
         "3"
        ],
        [
         "Bất động sản",
         "20",
         "11",
         "20"
        ],
        [
         "Công nghệ Thông tin",
         "1",
         "3",
         "3"
        ],
        [
         "Du lịch và Giải trí",
         "2",
         "1",
         "5"
        ],
        [
         "Dầu khí",
         "2",
         "0",
         "0"
        ],
        [
         "Dịch vụ tài chính",
         "3",
         "7",
         "9"
        ],
        [
         "Hàng & Dịch vụ Công nghiệp",
         "1",
         "11",
         "25"
        ],
        [
         "Hàng cá nhân & Gia dụng",
         "2",
         "6",
         "9"
        ],
        [
         "Hóa chất",
         "8",
         "1",
         "13"
        ],
        [
         "Ngân hàng",
         "2",
         "4",
         "12"
        ],
        [
         "Thực phẩm và đồ uống",
         "13",
         "7",
         "8"
        ],
        [
         "Tài nguyên Cơ bản",
         "6",
         "5",
         "10"
        ],
        [
         "Xây dựng và Vật liệu",
         "11",
         "11",
         "21"
        ],
        [
         "Y tế",
         "4",
         "3",
         "7"
        ],
        [
         "Ô tô và phụ tùng",
         "1",
         "2",
         "5"
        ],
        [
         "Điện, nước & xăng dầu khí đốt",
         "2",
         "15",
         "13"
        ]
       ],
       "shape": {
        "columns": 3,
        "rows": 17
       }
      },
      "text/html": [
       "<div>\n",
       "<style scoped>\n",
       "    .dataframe tbody tr th:only-of-type {\n",
       "        vertical-align: middle;\n",
       "    }\n",
       "\n",
       "    .dataframe tbody tr th {\n",
       "        vertical-align: top;\n",
       "    }\n",
       "\n",
       "    .dataframe thead th {\n",
       "        text-align: right;\n",
       "    }\n",
       "</style>\n",
       "<table border=\"1\" class=\"dataframe\">\n",
       "  <thead>\n",
       "    <tr style=\"text-align: right;\">\n",
       "      <th>Return_risk</th>\n",
       "      <th>high</th>\n",
       "      <th>low</th>\n",
       "      <th>moderate</th>\n",
       "    </tr>\n",
       "    <tr>\n",
       "      <th>industry</th>\n",
       "      <th></th>\n",
       "      <th></th>\n",
       "      <th></th>\n",
       "    </tr>\n",
       "  </thead>\n",
       "  <tbody>\n",
       "    <tr>\n",
       "      <th>Bán lẻ</th>\n",
       "      <td>3</td>\n",
       "      <td>2</td>\n",
       "      <td>3</td>\n",
       "    </tr>\n",
       "    <tr>\n",
       "      <th>Bảo hiểm</th>\n",
       "      <td>1</td>\n",
       "      <td>1</td>\n",
       "      <td>3</td>\n",
       "    </tr>\n",
       "    <tr>\n",
       "      <th>Bất động sản</th>\n",
       "      <td>20</td>\n",
       "      <td>11</td>\n",
       "      <td>20</td>\n",
       "    </tr>\n",
       "    <tr>\n",
       "      <th>Công nghệ Thông tin</th>\n",
       "      <td>1</td>\n",
       "      <td>3</td>\n",
       "      <td>3</td>\n",
       "    </tr>\n",
       "    <tr>\n",
       "      <th>Du lịch và Giải trí</th>\n",
       "      <td>2</td>\n",
       "      <td>1</td>\n",
       "      <td>5</td>\n",
       "    </tr>\n",
       "    <tr>\n",
       "      <th>Dầu khí</th>\n",
       "      <td>2</td>\n",
       "      <td>0</td>\n",
       "      <td>0</td>\n",
       "    </tr>\n",
       "    <tr>\n",
       "      <th>Dịch vụ tài chính</th>\n",
       "      <td>3</td>\n",
       "      <td>7</td>\n",
       "      <td>9</td>\n",
       "    </tr>\n",
       "    <tr>\n",
       "      <th>Hàng &amp; Dịch vụ Công nghiệp</th>\n",
       "      <td>1</td>\n",
       "      <td>11</td>\n",
       "      <td>25</td>\n",
       "    </tr>\n",
       "    <tr>\n",
       "      <th>Hàng cá nhân &amp; Gia dụng</th>\n",
       "      <td>2</td>\n",
       "      <td>6</td>\n",
       "      <td>9</td>\n",
       "    </tr>\n",
       "    <tr>\n",
       "      <th>Hóa chất</th>\n",
       "      <td>8</td>\n",
       "      <td>1</td>\n",
       "      <td>13</td>\n",
       "    </tr>\n",
       "    <tr>\n",
       "      <th>Ngân hàng</th>\n",
       "      <td>2</td>\n",
       "      <td>4</td>\n",
       "      <td>12</td>\n",
       "    </tr>\n",
       "    <tr>\n",
       "      <th>Thực phẩm và đồ uống</th>\n",
       "      <td>13</td>\n",
       "      <td>7</td>\n",
       "      <td>8</td>\n",
       "    </tr>\n",
       "    <tr>\n",
       "      <th>Tài nguyên Cơ bản</th>\n",
       "      <td>6</td>\n",
       "      <td>5</td>\n",
       "      <td>10</td>\n",
       "    </tr>\n",
       "    <tr>\n",
       "      <th>Xây dựng và Vật liệu</th>\n",
       "      <td>11</td>\n",
       "      <td>11</td>\n",
       "      <td>21</td>\n",
       "    </tr>\n",
       "    <tr>\n",
       "      <th>Y tế</th>\n",
       "      <td>4</td>\n",
       "      <td>3</td>\n",
       "      <td>7</td>\n",
       "    </tr>\n",
       "    <tr>\n",
       "      <th>Ô tô và phụ tùng</th>\n",
       "      <td>1</td>\n",
       "      <td>2</td>\n",
       "      <td>5</td>\n",
       "    </tr>\n",
       "    <tr>\n",
       "      <th>Điện, nước &amp; xăng dầu khí đốt</th>\n",
       "      <td>2</td>\n",
       "      <td>15</td>\n",
       "      <td>13</td>\n",
       "    </tr>\n",
       "  </tbody>\n",
       "</table>\n",
       "</div>"
      ],
      "text/plain": [
       "Return_risk                    high  low  moderate\n",
       "industry                                          \n",
       "Bán lẻ                            3    2         3\n",
       "Bảo hiểm                          1    1         3\n",
       "Bất động sản                     20   11        20\n",
       "Công nghệ Thông tin               1    3         3\n",
       "Du lịch và Giải trí               2    1         5\n",
       "Dầu khí                           2    0         0\n",
       "Dịch vụ tài chính                 3    7         9\n",
       "Hàng & Dịch vụ Công nghiệp        1   11        25\n",
       "Hàng cá nhân & Gia dụng           2    6         9\n",
       "Hóa chất                          8    1        13\n",
       "Ngân hàng                         2    4        12\n",
       "Thực phẩm và đồ uống             13    7         8\n",
       "Tài nguyên Cơ bản                 6    5        10\n",
       "Xây dựng và Vật liệu             11   11        21\n",
       "Y tế                              4    3         7\n",
       "Ô tô và phụ tùng                  1    2         5\n",
       "Điện, nước & xăng dầu khí đốt     2   15        13"
      ]
     },
     "execution_count": 21,
     "metadata": {},
     "output_type": "execute_result"
    }
   ],
   "source": [
    "contingency_table"
   ]
  },
  {
   "cell_type": "code",
   "execution_count": 23,
   "metadata": {},
   "outputs": [
    {
     "name": "stdout",
     "output_type": "stream",
     "text": [
      "Defaulting to user installation because normal site-packages is not writeable\n",
      "Collecting statsmodels\n",
      "  Using cached statsmodels-0.14.4-cp310-cp310-manylinux_2_17_x86_64.manylinux2014_x86_64.whl (10.8 MB)\n",
      "Requirement already satisfied: numpy<3,>=1.22.3 in /home/tuanvu/.local/lib/python3.10/site-packages (from statsmodels) (2.2.4)\n",
      "Requirement already satisfied: scipy!=1.9.2,>=1.8 in /home/tuanvu/.local/lib/python3.10/site-packages (from statsmodels) (1.15.2)\n",
      "Collecting patsy>=0.5.6\n",
      "  Using cached patsy-1.0.1-py2.py3-none-any.whl (232 kB)\n",
      "Requirement already satisfied: pandas!=2.1.0,>=1.4 in /home/tuanvu/.local/lib/python3.10/site-packages (from statsmodels) (2.2.3)\n",
      "Requirement already satisfied: packaging>=21.3 in /usr/lib/python3/dist-packages (from statsmodels) (21.3)\n",
      "Requirement already satisfied: pytz>=2020.1 in /usr/lib/python3/dist-packages (from pandas!=2.1.0,>=1.4->statsmodels) (2022.1)\n",
      "Requirement already satisfied: tzdata>=2022.7 in /home/tuanvu/.local/lib/python3.10/site-packages (from pandas!=2.1.0,>=1.4->statsmodels) (2025.2)\n",
      "Requirement already satisfied: python-dateutil>=2.8.2 in /home/tuanvu/.local/lib/python3.10/site-packages (from pandas!=2.1.0,>=1.4->statsmodels) (2.9.0.post0)\n",
      "Requirement already satisfied: six>=1.5 in /usr/lib/python3/dist-packages (from python-dateutil>=2.8.2->pandas!=2.1.0,>=1.4->statsmodels) (1.16.0)\n",
      "Installing collected packages: patsy, statsmodels\n",
      "Successfully installed patsy-1.0.1 statsmodels-0.14.4\n",
      "Note: you may need to restart the kernel to use updated packages.\n"
     ]
    }
   ],
   "source": [
    "pip install statsmodels"
   ]
  },
  {
   "cell_type": "code",
   "execution_count": null,
   "metadata": {},
   "outputs": [
    {
     "name": "stdout",
     "output_type": "stream",
     "text": [
      "                              sum_sq     df           F        PR(>F)\n",
      "C(industry)                 0.000005   16.0    4.356311  4.848939e-07\n",
      "C(Volume_risk)              0.000027    2.0  204.657486  4.308417e-56\n",
      "C(industry):C(Volume_risk)  0.000002   32.0    1.066236  3.777632e-01\n",
      "Residual                    0.000019  289.0         NaN           NaN\n",
      "There is no significant interaction effect between industry and volume risk on mean return.\n"
     ]
    },
    {
     "name": "stderr",
     "output_type": "stream",
     "text": [
      "covariance of constraints does not have full rank. The number of constraints is 16, but rank is 14\n",
      "covariance of constraints does not have full rank. The number of constraints is 32, but rank is 30\n"
     ]
    }
   ],
   "source": [
    "import statsmodels.api as sm\n",
    "from statsmodels.formula.api import ols\n",
    "\n",
    "# Prepare the data for ANOVA\n",
    "anova_data = df_merge[['industry', 'Volume_risk', 'mean_return']].dropna()\n",
    "# Fit the two-way ANOVA model with replication\n",
    "model = ols('mean_return ~ C(industry) + C(Volume_risk) + C(industry):C(Volume_risk)', data=anova_data).fit()\n",
    "anova_table = sm.stats.anova_lm(model, typ=2)\n",
    "\n",
    "# Display the ANOVA table\n",
    "print(anova_table)\n",
    "\n",
    "# Interpret the results\n",
    "if anova_table['PR(>F)']['C(industry):C(Volume_risk)'] < 0.05:\n",
    "    print(\"There is a significant interaction effect between industry and volume risk on mean return.\")\n",
    "else:\n",
    "    print(\"There is no significant interaction effect between industry and volume risk on mean return.\")"
   ]
  },
  {
   "cell_type": "code",
   "execution_count": 63,
   "metadata": {},
   "outputs": [
    {
     "data": {
      "image/png": "[encoded data removed]",
      "text/plain": [
       "<Figure size 1200x600 with 1 Axes>"
      ]
     },
     "metadata": {},
     "output_type": "display_data"
    },
    {
     "data": {
      "image/png": "[encoded data removed]",
      "text/plain": [
       "<Figure size 1000x500 with 1 Axes>"
      ]
     },
     "metadata": {},
     "output_type": "display_data"
    },
    {
     "data": {
      "image/png": "[encoded data removed]",
      "text/plain": [
       "<Figure size 1500x700 with 1 Axes>"
      ]
     },
     "metadata": {},
     "output_type": "display_data"
    }
   ],
   "source": [
    "# Boxplot for Mean Return by Industry\n",
    "plt.figure(figsize=(12, 6))  # Adjust the size for this subplot\n",
    "sns.boxplot(x='industry', y='mean_return', data=anova_data)\n",
    "plt.title('Mean Return by Industry')\n",
    "plt.xticks(rotation=45)\n",
    "plt.tight_layout()\n",
    "plt.show()\n",
    "\n",
    "# Boxplot for Mean Return by Volume Risk\n",
    "plt.figure(figsize=(10, 5))  # Adjust the size for this subplot\n",
    "sns.boxplot(x='Volume_risk', y='mean_return', data=anova_data)\n",
    "plt.title('Mean Return by Volume Risk')\n",
    "plt.xticks(rotation=45)\n",
    "plt.tight_layout()\n",
    "plt.show()\n",
    "\n",
    "# Interaction Plot: Industry and Volume Risk\n",
    "plt.figure(figsize=(15, 7))  # Adjust the size for this subplot\n",
    "sns.pointplot(x='industry', y='mean_return', hue='Volume_risk', data=anova_data, dodge=True)\n",
    "plt.title('Interaction Plot: Industry and Volume Risk')\n",
    "plt.xticks(rotation=45)\n",
    "plt.tight_layout()\n",
    "plt.show()"
   ]
  },
  {
   "cell_type": "code",
   "execution_count": null,
   "metadata": {},
   "outputs": [],
   "source": []
  },
  {
   "cell_type": "code",
   "execution_count": null,
   "metadata": {},
   "outputs": [],
   "source": []
  },
  {
   "cell_type": "code",
   "execution_count": 29,
   "metadata": {},
   "outputs": [
    {
     "name": "stdout",
     "output_type": "stream",
     "text": [
      "Shapiro-Wilk Test for Normality: p-value = 0.000\n",
      "Residuals are not normally distributed.\n"
     ]
    }
   ],
   "source": [
    "#3. Checking Assumptions\n",
    "from scipy.stats import shapiro\n",
    "#Normality: P-value > 0.05 suggests residuals are normally distributed.\n",
    "# Get residuals from the model\n",
    "residuals = model.resid\n",
    "stat, p = shapiro(residuals)\n",
    "print(f\"Shapiro-Wilk Test for Normality: p-value = {p:.3f}\")\n",
    "if p > 0.05:\n",
    "    print(\"Residuals are normally distributed.\")\n",
    "else:\n",
    "    print(\"Residuals are not normally distributed.\")\n"
   ]
  },
  {
   "cell_type": "code",
   "execution_count": null,
   "metadata": {},
   "outputs": [
    {
     "ename": "KeyError",
     "evalue": "'Program'",
     "output_type": "error",
     "traceback": [
      "\u001b[0;31m---------------------------------------------------------------------------\u001b[0m",
      "\u001b[0;31mKeyError\u001b[0m                                  Traceback (most recent call last)",
      "File \u001b[0;32m~/.local/lib/python3.10/site-packages/pandas/core/indexes/base.py:3805\u001b[0m, in \u001b[0;36mIndex.get_loc\u001b[0;34m(self, key)\u001b[0m\n\u001b[1;32m   3804\u001b[0m \u001b[38;5;28;01mtry\u001b[39;00m:\n\u001b[0;32m-> 3805\u001b[0m     \u001b[38;5;28;01mreturn\u001b[39;00m \u001b[38;5;28;43mself\u001b[39;49m\u001b[38;5;241;43m.\u001b[39;49m\u001b[43m_engine\u001b[49m\u001b[38;5;241;43m.\u001b[39;49m\u001b[43mget_loc\u001b[49m\u001b[43m(\u001b[49m\u001b[43mcasted_key\u001b[49m\u001b[43m)\u001b[49m\n\u001b[1;32m   3806\u001b[0m \u001b[38;5;28;01mexcept\u001b[39;00m \u001b[38;5;167;01mKeyError\u001b[39;00m \u001b[38;5;28;01mas\u001b[39;00m err:\n",
      "File \u001b[0;32mindex.pyx:167\u001b[0m, in \u001b[0;36mpandas._libs.index.IndexEngine.get_loc\u001b[0;34m()\u001b[0m\n",
      "File \u001b[0;32mindex.pyx:196\u001b[0m, in \u001b[0;36mpandas._libs.index.IndexEngine.get_loc\u001b[0;34m()\u001b[0m\n",
      "File \u001b[0;32mpandas/_libs/hashtable_class_helper.pxi:7081\u001b[0m, in \u001b[0;36mpandas._libs.hashtable.PyObjectHashTable.get_item\u001b[0;34m()\u001b[0m\n",
      "File \u001b[0;32mpandas/_libs/hashtable_class_helper.pxi:7089\u001b[0m, in \u001b[0;36mpandas._libs.hashtable.PyObjectHashTable.get_item\u001b[0;34m()\u001b[0m\n",
      "\u001b[0;31mKeyError\u001b[0m: 'Program'",
      "\nThe above exception was the direct cause of the following exception:\n",
      "\u001b[0;31mKeyError\u001b[0m                                  Traceback (most recent call last)",
      "Cell \u001b[0;32mIn[28], line 6\u001b[0m\n\u001b[1;32m      2\u001b[0m \u001b[38;5;28;01mfrom\u001b[39;00m \u001b[38;5;21;01mscipy\u001b[39;00m\u001b[38;5;21;01m.\u001b[39;00m\u001b[38;5;21;01mstats\u001b[39;00m \u001b[38;5;28;01mimport\u001b[39;00m levene\n\u001b[1;32m      4\u001b[0m \u001b[38;5;66;03m# Group data by Program and Gender\u001b[39;00m\n\u001b[1;32m      5\u001b[0m grouped_data \u001b[38;5;241m=\u001b[39m [data[(data[\u001b[38;5;124m'\u001b[39m\u001b[38;5;124mProgram\u001b[39m\u001b[38;5;124m'\u001b[39m] \u001b[38;5;241m==\u001b[39m p) \u001b[38;5;241m&\u001b[39m (data[\u001b[38;5;124m'\u001b[39m\u001b[38;5;124mGender\u001b[39m\u001b[38;5;124m'\u001b[39m] \u001b[38;5;241m==\u001b[39m g)][\u001b[38;5;124m'\u001b[39m\u001b[38;5;124mTime\u001b[39m\u001b[38;5;124m'\u001b[39m]\n\u001b[0;32m----> 6\u001b[0m                 \u001b[38;5;28;01mfor\u001b[39;00m p \u001b[38;5;129;01min\u001b[39;00m \u001b[43mdata\u001b[49m\u001b[43m[\u001b[49m\u001b[38;5;124;43m'\u001b[39;49m\u001b[38;5;124;43mProgram\u001b[39;49m\u001b[38;5;124;43m'\u001b[39;49m\u001b[43m]\u001b[49m\u001b[38;5;241m.\u001b[39munique() \u001b[38;5;28;01mfor\u001b[39;00m g \u001b[38;5;129;01min\u001b[39;00m data[\u001b[38;5;124m'\u001b[39m\u001b[38;5;124mGender\u001b[39m\u001b[38;5;124m'\u001b[39m]\u001b[38;5;241m.\u001b[39munique()]\n\u001b[1;32m      7\u001b[0m stat, p \u001b[38;5;241m=\u001b[39m levene(\u001b[38;5;241m*\u001b[39mgrouped_data)\n\u001b[1;32m      8\u001b[0m \u001b[38;5;28mprint\u001b[39m(\u001b[38;5;124mf\u001b[39m\u001b[38;5;124m\"\u001b[39m\u001b[38;5;124mLevene\u001b[39m\u001b[38;5;124m'\u001b[39m\u001b[38;5;124ms Test for Homogeneity: p-value = \u001b[39m\u001b[38;5;132;01m{\u001b[39;00mp\u001b[38;5;132;01m:\u001b[39;00m\u001b[38;5;124m.3f\u001b[39m\u001b[38;5;132;01m}\u001b[39;00m\u001b[38;5;124m\"\u001b[39m)\n",
      "File \u001b[0;32m~/.local/lib/python3.10/site-packages/pandas/core/frame.py:4102\u001b[0m, in \u001b[0;36mDataFrame.__getitem__\u001b[0;34m(self, key)\u001b[0m\n\u001b[1;32m   4100\u001b[0m \u001b[38;5;28;01mif\u001b[39;00m \u001b[38;5;28mself\u001b[39m\u001b[38;5;241m.\u001b[39mcolumns\u001b[38;5;241m.\u001b[39mnlevels \u001b[38;5;241m>\u001b[39m \u001b[38;5;241m1\u001b[39m:\n\u001b[1;32m   4101\u001b[0m     \u001b[38;5;28;01mreturn\u001b[39;00m \u001b[38;5;28mself\u001b[39m\u001b[38;5;241m.\u001b[39m_getitem_multilevel(key)\n\u001b[0;32m-> 4102\u001b[0m indexer \u001b[38;5;241m=\u001b[39m \u001b[38;5;28;43mself\u001b[39;49m\u001b[38;5;241;43m.\u001b[39;49m\u001b[43mcolumns\u001b[49m\u001b[38;5;241;43m.\u001b[39;49m\u001b[43mget_loc\u001b[49m\u001b[43m(\u001b[49m\u001b[43mkey\u001b[49m\u001b[43m)\u001b[49m\n\u001b[1;32m   4103\u001b[0m \u001b[38;5;28;01mif\u001b[39;00m is_integer(indexer):\n\u001b[1;32m   4104\u001b[0m     indexer \u001b[38;5;241m=\u001b[39m [indexer]\n",
      "File \u001b[0;32m~/.local/lib/python3.10/site-packages/pandas/core/indexes/base.py:3812\u001b[0m, in \u001b[0;36mIndex.get_loc\u001b[0;34m(self, key)\u001b[0m\n\u001b[1;32m   3807\u001b[0m     \u001b[38;5;28;01mif\u001b[39;00m \u001b[38;5;28misinstance\u001b[39m(casted_key, \u001b[38;5;28mslice\u001b[39m) \u001b[38;5;129;01mor\u001b[39;00m (\n\u001b[1;32m   3808\u001b[0m         \u001b[38;5;28misinstance\u001b[39m(casted_key, abc\u001b[38;5;241m.\u001b[39mIterable)\n\u001b[1;32m   3809\u001b[0m         \u001b[38;5;129;01mand\u001b[39;00m \u001b[38;5;28many\u001b[39m(\u001b[38;5;28misinstance\u001b[39m(x, \u001b[38;5;28mslice\u001b[39m) \u001b[38;5;28;01mfor\u001b[39;00m x \u001b[38;5;129;01min\u001b[39;00m casted_key)\n\u001b[1;32m   3810\u001b[0m     ):\n\u001b[1;32m   3811\u001b[0m         \u001b[38;5;28;01mraise\u001b[39;00m InvalidIndexError(key)\n\u001b[0;32m-> 3812\u001b[0m     \u001b[38;5;28;01mraise\u001b[39;00m \u001b[38;5;167;01mKeyError\u001b[39;00m(key) \u001b[38;5;28;01mfrom\u001b[39;00m \u001b[38;5;21;01merr\u001b[39;00m\n\u001b[1;32m   3813\u001b[0m \u001b[38;5;28;01mexcept\u001b[39;00m \u001b[38;5;167;01mTypeError\u001b[39;00m:\n\u001b[1;32m   3814\u001b[0m     \u001b[38;5;66;03m# If we have a listlike key, _check_indexing_error will raise\u001b[39;00m\n\u001b[1;32m   3815\u001b[0m     \u001b[38;5;66;03m#  InvalidIndexError. Otherwise we fall through and re-raise\u001b[39;00m\n\u001b[1;32m   3816\u001b[0m     \u001b[38;5;66;03m#  the TypeError.\u001b[39;00m\n\u001b[1;32m   3817\u001b[0m     \u001b[38;5;28mself\u001b[39m\u001b[38;5;241m.\u001b[39m_check_indexing_error(key)\n",
      "\u001b[0;31mKeyError\u001b[0m: 'Program'"
     ]
    }
   ],
   "source": []
  }
 ],
 "metadata": {
  "kernelspec": {
   "display_name": "Python 3",
   "language": "python",
   "name": "python3"
  },
  "language_info": {
   "codemirror_mode": {
    "name": "ipython",
    "version": 3
   },
   "file_extension": ".py",
   "mimetype": "text/x-python",
   "name": "python",
   "nbconvert_exporter": "python",
   "pygments_lexer": "ipython3",
   "version": "3.10.12"
  }
 },
 "nbformat": 4,
 "nbformat_minor": 2
}
